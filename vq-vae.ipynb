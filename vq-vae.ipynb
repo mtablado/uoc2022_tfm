{
  "nbformat": 4,
  "nbformat_minor": 0,
  "metadata": {
    "colab": {
      "provenance": [],
      "include_colab_link": true
    },
    "kernelspec": {
      "name": "python3",
      "display_name": "Python 3"
    },
    "language_info": {
      "name": "python"
    },
    "accelerator": "GPU",
    "gpuClass": "premium"
  },
  "cells": [
    {
      "cell_type": "markdown",
      "metadata": {
        "id": "view-in-github",
        "colab_type": "text"
      },
      "source": [
        "<a href=\"https://colab.research.google.com/github/mtablado/uoc2022_tfm/blob/main/vq-vae.ipynb\" target=\"_parent\"><img src=\"https://colab.research.google.com/assets/colab-badge.svg\" alt=\"Open In Colab\"/></a>"
      ]
    },
    {
      "cell_type": "markdown",
      "source": [
        "https://learnopencv.com/variational-autoencoder-in-tensorflow/\n",
        "\n",
        "https://keras.io/examples/generative/vae/"
      ],
      "metadata": {
        "id": "yHasBMHRxHb8"
      }
    },
    {
      "cell_type": "code",
      "execution_count": 1,
      "metadata": {
        "id": "_dhLG4xZbM9y"
      },
      "outputs": [],
      "source": [
        "import tensorflow as tf\n",
        "from tensorflow import keras\n",
        "from tensorflow.keras import layers                                                                                                                                                                                                                                                                                                                                       \n",
        "from tensorflow.keras import backend as K\n",
        "from tensorflow.keras.models import Model\n",
        "from tensorflow.keras.optimizers import Adam, SGD, Adadelta, Adagrad\n",
        "import numpy as np\n",
        "import math                                                                                                                 "
      ]
    },
    {
      "cell_type": "code",
      "source": [
        "from tensorflow.compat.v1 import ConfigProto\n",
        "from tensorflow.compat.v1 import InteractiveSession\n",
        "\n",
        "config = ConfigProto()\n",
        "config.gpu_options.allow_growth = True\n",
        "session = InteractiveSession(config=config)\n",
        "\n",
        "PIXELS = 128"
      ],
      "metadata": {
        "id": "edtgkvZzbWoW"
      },
      "execution_count": 2,
      "outputs": []
    },
    {
      "cell_type": "code",
      "source": [
        "from google.colab import drive\n",
        "# Force the mount due to several errors with drive sync\n",
        "drive.mount('/content/drive', force_remount=True)"
      ],
      "metadata": {
        "colab": {
          "base_uri": "https://localhost:8080/"
        },
        "id": "kJFQ5I2cbZtm",
        "outputId": "47d1ad26-b82c-4adf-8fc9-21d285b5f8f0"
      },
      "execution_count": 3,
      "outputs": [
        {
          "output_type": "stream",
          "name": "stdout",
          "text": [
            "Mounted at /content/drive\n"
          ]
        }
      ]
    },
    {
      "cell_type": "code",
      "source": [
        "class VectorQuantizer(layers.Layer):\n",
        "    def __init__(self, num_embeddings, embedding_dim, beta=0.25, **kwargs):\n",
        "        super().__init__(**kwargs)\n",
        "        self.embedding_dim = embedding_dim\n",
        "        self.num_embeddings = num_embeddings\n",
        "\n",
        "        # The `beta` parameter is best kept between [0.25, 2] as per the paper.\n",
        "        self.beta = beta\n",
        "\n",
        "        # Initialize the embeddings which we will quantize.\n",
        "        w_init = tf.random_uniform_initializer()\n",
        "        self.embeddings = tf.Variable(\n",
        "            initial_value=w_init(\n",
        "                shape=(self.embedding_dim, self.num_embeddings), dtype=\"float32\"\n",
        "            ),\n",
        "            trainable=True,\n",
        "            name=\"embeddings_vqvae\",\n",
        "        )\n",
        "\n",
        "    def call(self, x):\n",
        "        # Calculate the input shape of the inputs and\n",
        "        # then flatten the inputs keeping `embedding_dim` intact.\n",
        "        input_shape = tf.shape(x)\n",
        "        flattened = tf.reshape(x, [-1, self.embedding_dim])\n",
        "\n",
        "        # Quantization.\n",
        "        encoding_indices = self.get_code_indices(flattened)\n",
        "        encodings = tf.one_hot(encoding_indices, self.num_embeddings)\n",
        "        quantized = tf.matmul(encodings, self.embeddings, transpose_b=True)\n",
        "\n",
        "        # Reshape the quantized values back to the original input shape\n",
        "        quantized = tf.reshape(quantized, input_shape)\n",
        "\n",
        "        # Calculate vector quantization loss and add that to the layer. You can learn more\n",
        "        # about adding losses to different layers here:\n",
        "        # https://keras.io/guides/making_new_layers_and_models_via_subclassing/. Check\n",
        "        # the original paper to get a handle on the formulation of the loss function.\n",
        "        commitment_loss = tf.reduce_mean((tf.stop_gradient(quantized) - x) ** 2)\n",
        "        codebook_loss = tf.reduce_mean((quantized - tf.stop_gradient(x)) ** 2)\n",
        "        self.add_loss(self.beta * commitment_loss + codebook_loss)\n",
        "\n",
        "        # Straight-through estimator.\n",
        "        quantized = x + tf.stop_gradient(quantized - x)\n",
        "        return quantized\n",
        "\n",
        "    def get_code_indices(self, flattened_inputs):\n",
        "        # Calculate L2-normalized distance between the inputs and the codes.\n",
        "        similarity = tf.matmul(flattened_inputs, self.embeddings)\n",
        "        distances = (\n",
        "            tf.reduce_sum(flattened_inputs ** 2, axis=1, keepdims=True)\n",
        "            + tf.reduce_sum(self.embeddings ** 2, axis=0)\n",
        "            - 2 * similarity\n",
        "        )\n",
        "\n",
        "        # Derive the indices for minimum distances.\n",
        "        encoding_indices = tf.argmin(distances, axis=1)\n",
        "        return encoding_indices\n"
      ],
      "metadata": {
        "id": "eXz7vMbzcLEu"
      },
      "execution_count": 4,
      "outputs": []
    },
    {
      "cell_type": "code",
      "source": [
        "def get_encoder(latent_dim=16):\n",
        "  encoder_inputs = keras.Input(shape=(PIXELS, PIXELS, 1))\n",
        "\n",
        "  # Block-0\n",
        "  x = layers.Conv2D(32, kernel_size=4, strides=2, padding='same', name='conv_0')(encoder_inputs)\n",
        "  x = layers.BatchNormalization(name='bn_0')(x)\n",
        "  x = layers.LeakyReLU(name='lrelu_0')(x)\n",
        "  #x = layers.MaxPooling2D((2, 2), padding='same')(x)\n",
        "\n",
        "  # Block-1\n",
        "  x = layers.Conv2D(32, kernel_size=4, strides=2, padding='same', name='conv_1')(x)\n",
        "  x = layers.BatchNormalization(name='bn_1')(x)\n",
        "  x = layers.LeakyReLU(name='lrelu_1')(x)\n",
        "  #x = layers.MaxPooling2D((2, 2), padding='same')(x)\n",
        "\n",
        "  # Block-2\n",
        "  x = layers.Conv2D(64, kernel_size=4, strides=2, padding='same', name='conv_2')(x)\n",
        "  x = layers.BatchNormalization(name='bn_2')(x)\n",
        "  x = layers.LeakyReLU(name='lrelu_2')(x)\n",
        "  #x = layers.MaxPooling2D((2, 2), padding='same')(x)\n",
        "\n",
        "  # Block-3\n",
        "  x = layers.Conv2D(64, 4, 2, padding='same', name='conv_3')(x)\n",
        "  x = layers.BatchNormalization(name='bn_3')(x)\n",
        "  x = layers.LeakyReLU(name='lrelu_3')(x)\n",
        "  #x = layers.MaxPooling2D((2, 2), padding='same')(x)\n",
        "\n",
        "  # Block-4\n",
        "  x = layers.Conv2D(64, 4, 2, padding='same', name='conv_4')(x)\n",
        "  x = layers.BatchNormalization(name='bn_4')(x)\n",
        "  x = layers.LeakyReLU(name='lrelu_4')(x)\n",
        "  #x = layers.MaxPooling2D((2, 2), padding='same')(x)\n",
        "\n",
        "  # Block-5\n",
        "  x = layers.Conv2D(64, 4, 2, padding='same', name='conv_5')(x)\n",
        "  x = layers.BatchNormalization(name='bn_5')(x)\n",
        "  x = layers.LeakyReLU(name='lrelu_5')(x)\n",
        "  #x = layers.MaxPooling2D((2, 2), padding='same')(x)\n",
        "\n",
        "  encoder_outputs = layers.Conv2D(latent_dim, 1, padding=\"same\")(x)\n",
        "  model = keras.Model(encoder_inputs, encoder_outputs, name=\"encoder\")\n",
        "  model.summary()\n",
        "  return model"
      ],
      "metadata": {
        "id": "Ha_xbUFlc0ri"
      },
      "execution_count": 5,
      "outputs": []
    },
    {
      "cell_type": "code",
      "source": [
        "def get_decoder(latent_dim=16):\n",
        "  latent_inputs = keras.Input(shape=get_encoder(latent_dim).output.shape[1:])\n",
        "\n",
        "  # Block-1\n",
        "  x = layers.Conv2DTranspose(64, 4, strides= 2, padding='same',name='conv_transpose_1')(latent_inputs)\n",
        "  x = layers.BatchNormalization(name='bn_1')(x)\n",
        "  x = layers.LeakyReLU(name='lrelu_1')(x)\n",
        "  #x = layers.UpSampling2D((2, 2))(x)\n",
        "\n",
        "  # Block-2\n",
        "  x = layers.Conv2DTranspose(64, 4, strides= 2, padding='same', name='conv_transpose_2')(x)\n",
        "  x = layers.BatchNormalization(name='bn_2')(x)\n",
        "  x = layers.LeakyReLU(name='lrelu_2')(x)\n",
        "  #x = layers.UpSampling2D((2, 2))(x)\n",
        "\n",
        "  # Block-3\n",
        "  x = layers.Conv2DTranspose(64, 4, 2, padding='same', name='conv_transpose_3')(x)\n",
        "  x = layers.BatchNormalization(name='bn_3')(x)\n",
        "  x = layers.LeakyReLU(name='lrelu_3')(x)\n",
        "  #x = layers.UpSampling2D((2, 2))(x)\n",
        "\n",
        "  # Block-4\n",
        "  x = layers.Conv2DTranspose(32, 4, 2, padding='same', name='conv_transpose_4')(x)\n",
        "  x = layers.BatchNormalization(name='bn_4')(x)\n",
        "  x = layers.LeakyReLU(name='lrelu_4')(x)\n",
        "  #x = layers.UpSampling2D((2, 2))(x)\n",
        "\n",
        "  # Block-4\n",
        "  x = layers.Conv2DTranspose(1, 4, 2, padding='same', name='conv_transpose_5')(x)\n",
        "  x = layers.BatchNormalization(name='bn_5')(x)\n",
        "  x = layers.LeakyReLU(name='lrelu_5')(x)\n",
        "  #x = layers.UpSampling2D((2, 2))(x)\n",
        "\n",
        "  # Block-6\n",
        "  decoder_outputs = layers.Conv2DTranspose(1, 3, 1,padding='same', activation='sigmoid', name='conv_transpose_6')(x)\n",
        "  model = tf.keras.Model(latent_inputs, decoder_outputs, name=\"decoder\")\n",
        "  model.summary()\n",
        "  return model"
      ],
      "metadata": {
        "id": "JU-SvQ3hfHtb"
      },
      "execution_count": 16,
      "outputs": []
    },
    {
      "cell_type": "code",
      "source": [
        "def get_vqvae(latent_dim=16, num_embeddings=64):\n",
        "  vq_layer = VectorQuantizer(num_embeddings, latent_dim, name=\"vector_quantizer\")\n",
        "  encoder = get_encoder(latent_dim)\n",
        "  decoder = get_decoder(latent_dim)\n",
        "  inputs = keras.Input(shape=(PIXELS, PIXELS, 1))\n",
        "  encoder_outputs = encoder(inputs)\n",
        "  quantized_latents = vq_layer(encoder_outputs)\n",
        "  reconstructions = decoder(quantized_latents)\n",
        "  return keras.Model(inputs, reconstructions, name=\"vq_vae\")\n",
        "\n",
        "vqvae = get_vqvae()\n",
        "vqvae.summary()\n"
      ],
      "metadata": {
        "id": "5UPcjmq1d8Y5",
        "outputId": "68369566-cb71-401d-f410-6a02e889b9a2",
        "colab": {
          "base_uri": "https://localhost:8080/"
        }
      },
      "execution_count": 17,
      "outputs": [
        {
          "output_type": "stream",
          "name": "stdout",
          "text": [
            "Model: \"encoder\"\n",
            "_________________________________________________________________\n",
            " Layer (type)                Output Shape              Param #   \n",
            "=================================================================\n",
            " input_9 (InputLayer)        [(None, 128, 128, 1)]     0         \n",
            "                                                                 \n",
            " conv_0 (Conv2D)             (None, 64, 64, 32)        544       \n",
            "                                                                 \n",
            " bn_0 (BatchNormalization)   (None, 64, 64, 32)        128       \n",
            "                                                                 \n",
            " lrelu_0 (LeakyReLU)         (None, 64, 64, 32)        0         \n",
            "                                                                 \n",
            " conv_1 (Conv2D)             (None, 32, 32, 32)        16416     \n",
            "                                                                 \n",
            " bn_1 (BatchNormalization)   (None, 32, 32, 32)        128       \n",
            "                                                                 \n",
            " lrelu_1 (LeakyReLU)         (None, 32, 32, 32)        0         \n",
            "                                                                 \n",
            " conv_2 (Conv2D)             (None, 16, 16, 64)        32832     \n",
            "                                                                 \n",
            " bn_2 (BatchNormalization)   (None, 16, 16, 64)        256       \n",
            "                                                                 \n",
            " lrelu_2 (LeakyReLU)         (None, 16, 16, 64)        0         \n",
            "                                                                 \n",
            " conv_3 (Conv2D)             (None, 8, 8, 64)          65600     \n",
            "                                                                 \n",
            " bn_3 (BatchNormalization)   (None, 8, 8, 64)          256       \n",
            "                                                                 \n",
            " lrelu_3 (LeakyReLU)         (None, 8, 8, 64)          0         \n",
            "                                                                 \n",
            " conv_4 (Conv2D)             (None, 4, 4, 64)          65600     \n",
            "                                                                 \n",
            " bn_4 (BatchNormalization)   (None, 4, 4, 64)          256       \n",
            "                                                                 \n",
            " lrelu_4 (LeakyReLU)         (None, 4, 4, 64)          0         \n",
            "                                                                 \n",
            " conv_5 (Conv2D)             (None, 2, 2, 64)          65600     \n",
            "                                                                 \n",
            " bn_5 (BatchNormalization)   (None, 2, 2, 64)          256       \n",
            "                                                                 \n",
            " lrelu_5 (LeakyReLU)         (None, 2, 2, 64)          0         \n",
            "                                                                 \n",
            " conv2d_4 (Conv2D)           (None, 2, 2, 16)          1040      \n",
            "                                                                 \n",
            "=================================================================\n",
            "Total params: 248,912\n",
            "Trainable params: 248,272\n",
            "Non-trainable params: 640\n",
            "_________________________________________________________________\n",
            "Model: \"encoder\"\n",
            "_________________________________________________________________\n",
            " Layer (type)                Output Shape              Param #   \n",
            "=================================================================\n",
            " input_10 (InputLayer)       [(None, 128, 128, 1)]     0         \n",
            "                                                                 \n",
            " conv_0 (Conv2D)             (None, 64, 64, 32)        544       \n",
            "                                                                 \n",
            " bn_0 (BatchNormalization)   (None, 64, 64, 32)        128       \n",
            "                                                                 \n",
            " lrelu_0 (LeakyReLU)         (None, 64, 64, 32)        0         \n",
            "                                                                 \n",
            " conv_1 (Conv2D)             (None, 32, 32, 32)        16416     \n",
            "                                                                 \n",
            " bn_1 (BatchNormalization)   (None, 32, 32, 32)        128       \n",
            "                                                                 \n",
            " lrelu_1 (LeakyReLU)         (None, 32, 32, 32)        0         \n",
            "                                                                 \n",
            " conv_2 (Conv2D)             (None, 16, 16, 64)        32832     \n",
            "                                                                 \n",
            " bn_2 (BatchNormalization)   (None, 16, 16, 64)        256       \n",
            "                                                                 \n",
            " lrelu_2 (LeakyReLU)         (None, 16, 16, 64)        0         \n",
            "                                                                 \n",
            " conv_3 (Conv2D)             (None, 8, 8, 64)          65600     \n",
            "                                                                 \n",
            " bn_3 (BatchNormalization)   (None, 8, 8, 64)          256       \n",
            "                                                                 \n",
            " lrelu_3 (LeakyReLU)         (None, 8, 8, 64)          0         \n",
            "                                                                 \n",
            " conv_4 (Conv2D)             (None, 4, 4, 64)          65600     \n",
            "                                                                 \n",
            " bn_4 (BatchNormalization)   (None, 4, 4, 64)          256       \n",
            "                                                                 \n",
            " lrelu_4 (LeakyReLU)         (None, 4, 4, 64)          0         \n",
            "                                                                 \n",
            " conv_5 (Conv2D)             (None, 2, 2, 64)          65600     \n",
            "                                                                 \n",
            " bn_5 (BatchNormalization)   (None, 2, 2, 64)          256       \n",
            "                                                                 \n",
            " lrelu_5 (LeakyReLU)         (None, 2, 2, 64)          0         \n",
            "                                                                 \n",
            " conv2d_5 (Conv2D)           (None, 2, 2, 16)          1040      \n",
            "                                                                 \n",
            "=================================================================\n",
            "Total params: 248,912\n",
            "Trainable params: 248,272\n",
            "Non-trainable params: 640\n",
            "_________________________________________________________________\n",
            "Model: \"decoder\"\n",
            "_________________________________________________________________\n",
            " Layer (type)                Output Shape              Param #   \n",
            "=================================================================\n",
            " input_11 (InputLayer)       [(None, 2, 2, 16)]        0         \n",
            "                                                                 \n",
            " conv_transpose_1 (Conv2DTra  (None, 4, 4, 64)         16448     \n",
            " nspose)                                                         \n",
            "                                                                 \n",
            " bn_1 (BatchNormalization)   (None, 4, 4, 64)          256       \n",
            "                                                                 \n",
            " lrelu_1 (LeakyReLU)         (None, 4, 4, 64)          0         \n",
            "                                                                 \n",
            " conv_transpose_2 (Conv2DTra  (None, 8, 8, 64)         65600     \n",
            " nspose)                                                         \n",
            "                                                                 \n",
            " bn_2 (BatchNormalization)   (None, 8, 8, 64)          256       \n",
            "                                                                 \n",
            " lrelu_2 (LeakyReLU)         (None, 8, 8, 64)          0         \n",
            "                                                                 \n",
            " conv_transpose_3 (Conv2DTra  (None, 16, 16, 64)       65600     \n",
            " nspose)                                                         \n",
            "                                                                 \n",
            " bn_3 (BatchNormalization)   (None, 16, 16, 64)        256       \n",
            "                                                                 \n",
            " lrelu_3 (LeakyReLU)         (None, 16, 16, 64)        0         \n",
            "                                                                 \n",
            " conv_transpose_4 (Conv2DTra  (None, 32, 32, 32)       32800     \n",
            " nspose)                                                         \n",
            "                                                                 \n",
            " bn_4 (BatchNormalization)   (None, 32, 32, 32)        128       \n",
            "                                                                 \n",
            " lrelu_4 (LeakyReLU)         (None, 32, 32, 32)        0         \n",
            "                                                                 \n",
            " conv_transpose_5 (Conv2DTra  (None, 64, 64, 1)        513       \n",
            " nspose)                                                         \n",
            "                                                                 \n",
            " bn_5 (BatchNormalization)   (None, 64, 64, 1)         4         \n",
            "                                                                 \n",
            " lrelu_5 (LeakyReLU)         (None, 64, 64, 1)         0         \n",
            "                                                                 \n",
            " conv_transpose_6 (Conv2DTra  (None, 64, 64, 1)        10        \n",
            " nspose)                                                         \n",
            "                                                                 \n",
            "=================================================================\n",
            "Total params: 181,871\n",
            "Trainable params: 181,421\n",
            "Non-trainable params: 450\n",
            "_________________________________________________________________\n",
            "Model: \"vq_vae\"\n",
            "_________________________________________________________________\n",
            " Layer (type)                Output Shape              Param #   \n",
            "=================================================================\n",
            " input_12 (InputLayer)       [(None, 128, 128, 1)]     0         \n",
            "                                                                 \n",
            " encoder (Functional)        (None, 2, 2, 16)          248912    \n",
            "                                                                 \n",
            " vector_quantizer (VectorQua  (None, 2, 2, 16)         1024      \n",
            " ntizer)                                                         \n",
            "                                                                 \n",
            " decoder (Functional)        (None, 64, 64, 1)         181871    \n",
            "                                                                 \n",
            "=================================================================\n",
            "Total params: 431,807\n",
            "Trainable params: 430,717\n",
            "Non-trainable params: 1,090\n",
            "_________________________________________________________________\n"
          ]
        }
      ]
    },
    {
      "cell_type": "code",
      "source": [
        "class VQVAETrainer(keras.models.Model):\n",
        "    def __init__(self, train_variance, latent_dim=32, num_embeddings=128, **kwargs):\n",
        "        super(VQVAETrainer, self).__init__(**kwargs)\n",
        "        self.train_variance = train_variance\n",
        "        self.latent_dim = latent_dim\n",
        "        self.num_embeddings = num_embeddings\n",
        "\n",
        "        self.vqvae = get_vqvae(self.latent_dim, self.num_embeddings)\n",
        "\n",
        "        self.total_loss_tracker = keras.metrics.Mean(name=\"total_loss\")\n",
        "        self.reconstruction_loss_tracker = keras.metrics.Mean(\n",
        "            name=\"reconstruction_loss\"\n",
        "        )\n",
        "        self.vq_loss_tracker = keras.metrics.Mean(name=\"vq_loss\")\n",
        "\n",
        "    @property\n",
        "    def metrics(self):\n",
        "        return [\n",
        "            self.total_loss_tracker,\n",
        "            self.reconstruction_loss_tracker,\n",
        "            self.vq_loss_tracker,\n",
        "        ]\n",
        "\n",
        "    def train_step(self, x):\n",
        "        with tf.GradientTape() as tape:\n",
        "            # Outputs from the VQ-VAE.\n",
        "            reconstructions = self.vqvae(x)\n",
        "\n",
        "            # Calculate the losses.\n",
        "            reconstruction_loss = (\n",
        "                tf.reduce_mean((x - reconstructions) ** 2) / self.train_variance\n",
        "            )\n",
        "            total_loss = reconstruction_loss + sum(self.vqvae.losses)\n",
        "\n",
        "        # Backpropagation.\n",
        "        grads = tape.gradient(total_loss, self.vqvae.trainable_variables)\n",
        "        self.optimizer.apply_gradients(zip(grads, self.vqvae.trainable_variables))\n",
        "\n",
        "        # Loss tracking.\n",
        "        self.total_loss_tracker.update_state(total_loss)\n",
        "        self.reconstruction_loss_tracker.update_state(reconstruction_loss)\n",
        "        self.vq_loss_tracker.update_state(sum(self.vqvae.losses))\n",
        "\n",
        "        # Log results.\n",
        "        return {\n",
        "            \"loss\": self.total_loss_tracker.result(),\n",
        "            \"reconstruction_loss\": self.reconstruction_loss_tracker.result(),\n",
        "            \"vqvae_loss\": self.vq_loss_tracker.result(),\n",
        "        }\n"
      ],
      "metadata": {
        "id": "eHfeUEi-eWdN"
      },
      "execution_count": 18,
      "outputs": []
    },
    {
      "cell_type": "markdown",
      "source": [
        "Images stored with *matplotlib.imsave* are not normalized, so we will rescale the pixels while reading\n",
        "\n",
        "https://medium.com/analytics-vidhya/understanding-image-augmentation-using-keras-tensorflow-a6341669d9ca"
      ],
      "metadata": {
        "id": "Y-cgnWmaS42y"
      }
    },
    {
      "cell_type": "code",
      "source": [
        "import numpy as np\n",
        "import cv2\n",
        "path_to_file=\"/content/drive/My Drive/tfm/dataset/slices/training/t1/IXI002-Guys-0828-T1_0.png\"\n",
        "img=cv2.imread(path_to_file,0)# read in image as grayscale\n",
        "max_pixel_value=np.max(img) #  find maximum pixel value\n",
        "min_pixel_value=np.min(img) # find minimum pixel value\n",
        "print('max pixel value= ', max_pixel_value, '  min pixel value= ', min_pixel_value)"
      ],
      "metadata": {
        "id": "chdofdGQSMBN"
      },
      "execution_count": null,
      "outputs": []
    },
    {
      "cell_type": "code",
      "source": [
        "%cd /content/drive/My Drive/tfm/dataset/slices-160-190\n",
        "from keras.preprocessing.image import ImageDataGenerator\n",
        "\n",
        "train_datagen = ImageDataGenerator(\n",
        "    rescale=1./(PIXELS - 1) # To normalize values\n",
        "    )\n",
        "\n",
        "train_generator = train_datagen.flow_from_directory(\n",
        "        'training',\n",
        "        target_size=(PIXELS, PIXELS),\n",
        "        batch_size=64, # Number of images processed together\n",
        "        color_mode='grayscale',\n",
        "        class_mode=None)\n",
        "\n",
        "test_datagen = ImageDataGenerator(rescale=1./(PIXELS - 1))\n",
        "\n",
        "test_generator = test_datagen.flow_from_directory(\n",
        "        'test',\n",
        "        target_size=(PIXELS, PIXELS),\n",
        "        batch_size=64,\n",
        "        color_mode='grayscale',\n",
        "        class_mode=None)"
      ],
      "metadata": {
        "colab": {
          "base_uri": "https://localhost:8080/"
        },
        "id": "naTJxG4kbtfA",
        "outputId": "49c67940-8012-4276-f7ba-948535c92924"
      },
      "execution_count": 9,
      "outputs": [
        {
          "output_type": "stream",
          "name": "stdout",
          "text": [
            "/content/drive/.shortcut-targets-by-id/1yKlrvb9Cp3amASiDUettfP3V1KJuzGDe/tfm/dataset/slices-160-190\n",
            "Found 16268 images belonging to 1 classes.\n",
            "Found 1162 images belonging to 1 classes.\n"
          ]
        }
      ]
    },
    {
      "cell_type": "code",
      "source": [
        "def calculate_data_variance(generator :ImageDataGenerator):\n",
        "  DATA_VARIANCE = 0.09493041879725218 # Change to zero for computing\n",
        "\n",
        "  if DATA_VARIANCE > 0:\n",
        "    data_variance = DATA_VARIANCE\n",
        "    print(\"Default Data variance \" + str(data_variance))\n",
        "  else:\n",
        "    batches = test_generator.next()\n",
        "    for batch in test_generator:\n",
        "      batch = test_generator.next()\n",
        "      print(batch.shape)\n",
        "      data_variance = np.var(batch / PIXELS)\n",
        "      print(\"Computed Data variance \" + str(data_variance))\n",
        "\n",
        "  return data_variance\n",
        "\n",
        "data_variance = calculate_data_variance(test_generator)"
      ],
      "metadata": {
        "id": "iMbpwz26iOk3",
        "outputId": "c5460016-81b7-4035-b1c8-f13437f3eb4d",
        "colab": {
          "base_uri": "https://localhost:8080/"
        }
      },
      "execution_count": 12,
      "outputs": [
        {
          "output_type": "stream",
          "name": "stdout",
          "text": [
            "Default Data variance 0.09493041879725218\n"
          ]
        }
      ]
    },
    {
      "cell_type": "code",
      "source": [
        "(x_train, _), (x_test, _) = keras.datasets.mnist.load_data()\n",
        "\n",
        "print(x_train.shape)\n",
        "x_train = np.expand_dims(x_train, -1)\n",
        "print(x_train.shape)\n",
        "\n",
        "x_test = np.expand_dims(x_test, -1)\n",
        "x_train_scaled = (x_train / PIXELS) - 0.5\n",
        "x_test_scaled = (x_test / PIXELS) - 0.5\n",
        "\n",
        "data_variance = np.var(x_train / PIXELS)\n",
        "print(data_variance)"
      ],
      "metadata": {
        "id": "A5bZAkxami9S",
        "outputId": "814476b1-eb3b-4ac6-e001-ded5298c49e4",
        "colab": {
          "base_uri": "https://localhost:8080/"
        }
      },
      "execution_count": 13,
      "outputs": [
        {
          "output_type": "stream",
          "name": "stdout",
          "text": [
            "Downloading data from https://storage.googleapis.com/tensorflow/tf-keras-datasets/mnist.npz\n",
            "11490434/11490434 [==============================] - 2s 0us/step\n",
            "(60000, 28, 28)\n",
            "(60000, 28, 28, 1)\n",
            "0.3767608936945399\n"
          ]
        }
      ]
    },
    {
      "cell_type": "code",
      "source": [
        "vqvae_trainer = VQVAETrainer(data_variance, latent_dim=16, num_embeddings=128)\n",
        "vqvae_trainer.compile(optimizer=keras.optimizers.Adam())"
      ],
      "metadata": {
        "id": "MjBTkkJYuLnq",
        "outputId": "c5675402-644d-4181-d1f9-7321ade20589",
        "colab": {
          "base_uri": "https://localhost:8080/"
        }
      },
      "execution_count": 19,
      "outputs": [
        {
          "output_type": "stream",
          "name": "stdout",
          "text": [
            "Model: \"encoder\"\n",
            "_________________________________________________________________\n",
            " Layer (type)                Output Shape              Param #   \n",
            "=================================================================\n",
            " input_13 (InputLayer)       [(None, 128, 128, 1)]     0         \n",
            "                                                                 \n",
            " conv_0 (Conv2D)             (None, 64, 64, 32)        544       \n",
            "                                                                 \n",
            " bn_0 (BatchNormalization)   (None, 64, 64, 32)        128       \n",
            "                                                                 \n",
            " lrelu_0 (LeakyReLU)         (None, 64, 64, 32)        0         \n",
            "                                                                 \n",
            " conv_1 (Conv2D)             (None, 32, 32, 32)        16416     \n",
            "                                                                 \n",
            " bn_1 (BatchNormalization)   (None, 32, 32, 32)        128       \n",
            "                                                                 \n",
            " lrelu_1 (LeakyReLU)         (None, 32, 32, 32)        0         \n",
            "                                                                 \n",
            " conv_2 (Conv2D)             (None, 16, 16, 64)        32832     \n",
            "                                                                 \n",
            " bn_2 (BatchNormalization)   (None, 16, 16, 64)        256       \n",
            "                                                                 \n",
            " lrelu_2 (LeakyReLU)         (None, 16, 16, 64)        0         \n",
            "                                                                 \n",
            " conv_3 (Conv2D)             (None, 8, 8, 64)          65600     \n",
            "                                                                 \n",
            " bn_3 (BatchNormalization)   (None, 8, 8, 64)          256       \n",
            "                                                                 \n",
            " lrelu_3 (LeakyReLU)         (None, 8, 8, 64)          0         \n",
            "                                                                 \n",
            " conv_4 (Conv2D)             (None, 4, 4, 64)          65600     \n",
            "                                                                 \n",
            " bn_4 (BatchNormalization)   (None, 4, 4, 64)          256       \n",
            "                                                                 \n",
            " lrelu_4 (LeakyReLU)         (None, 4, 4, 64)          0         \n",
            "                                                                 \n",
            " conv_5 (Conv2D)             (None, 2, 2, 64)          65600     \n",
            "                                                                 \n",
            " bn_5 (BatchNormalization)   (None, 2, 2, 64)          256       \n",
            "                                                                 \n",
            " lrelu_5 (LeakyReLU)         (None, 2, 2, 64)          0         \n",
            "                                                                 \n",
            " conv2d_6 (Conv2D)           (None, 2, 2, 16)          1040      \n",
            "                                                                 \n",
            "=================================================================\n",
            "Total params: 248,912\n",
            "Trainable params: 248,272\n",
            "Non-trainable params: 640\n",
            "_________________________________________________________________\n",
            "Model: \"encoder\"\n",
            "_________________________________________________________________\n",
            " Layer (type)                Output Shape              Param #   \n",
            "=================================================================\n",
            " input_14 (InputLayer)       [(None, 128, 128, 1)]     0         \n",
            "                                                                 \n",
            " conv_0 (Conv2D)             (None, 64, 64, 32)        544       \n",
            "                                                                 \n",
            " bn_0 (BatchNormalization)   (None, 64, 64, 32)        128       \n",
            "                                                                 \n",
            " lrelu_0 (LeakyReLU)         (None, 64, 64, 32)        0         \n",
            "                                                                 \n",
            " conv_1 (Conv2D)             (None, 32, 32, 32)        16416     \n",
            "                                                                 \n",
            " bn_1 (BatchNormalization)   (None, 32, 32, 32)        128       \n",
            "                                                                 \n",
            " lrelu_1 (LeakyReLU)         (None, 32, 32, 32)        0         \n",
            "                                                                 \n",
            " conv_2 (Conv2D)             (None, 16, 16, 64)        32832     \n",
            "                                                                 \n",
            " bn_2 (BatchNormalization)   (None, 16, 16, 64)        256       \n",
            "                                                                 \n",
            " lrelu_2 (LeakyReLU)         (None, 16, 16, 64)        0         \n",
            "                                                                 \n",
            " conv_3 (Conv2D)             (None, 8, 8, 64)          65600     \n",
            "                                                                 \n",
            " bn_3 (BatchNormalization)   (None, 8, 8, 64)          256       \n",
            "                                                                 \n",
            " lrelu_3 (LeakyReLU)         (None, 8, 8, 64)          0         \n",
            "                                                                 \n",
            " conv_4 (Conv2D)             (None, 4, 4, 64)          65600     \n",
            "                                                                 \n",
            " bn_4 (BatchNormalization)   (None, 4, 4, 64)          256       \n",
            "                                                                 \n",
            " lrelu_4 (LeakyReLU)         (None, 4, 4, 64)          0         \n",
            "                                                                 \n",
            " conv_5 (Conv2D)             (None, 2, 2, 64)          65600     \n",
            "                                                                 \n",
            " bn_5 (BatchNormalization)   (None, 2, 2, 64)          256       \n",
            "                                                                 \n",
            " lrelu_5 (LeakyReLU)         (None, 2, 2, 64)          0         \n",
            "                                                                 \n",
            " conv2d_7 (Conv2D)           (None, 2, 2, 16)          1040      \n",
            "                                                                 \n",
            "=================================================================\n",
            "Total params: 248,912\n",
            "Trainable params: 248,272\n",
            "Non-trainable params: 640\n",
            "_________________________________________________________________\n",
            "Model: \"decoder\"\n",
            "_________________________________________________________________\n",
            " Layer (type)                Output Shape              Param #   \n",
            "=================================================================\n",
            " input_15 (InputLayer)       [(None, 2, 2, 16)]        0         \n",
            "                                                                 \n",
            " conv_transpose_1 (Conv2DTra  (None, 4, 4, 64)         16448     \n",
            " nspose)                                                         \n",
            "                                                                 \n",
            " bn_1 (BatchNormalization)   (None, 4, 4, 64)          256       \n",
            "                                                                 \n",
            " lrelu_1 (LeakyReLU)         (None, 4, 4, 64)          0         \n",
            "                                                                 \n",
            " conv_transpose_2 (Conv2DTra  (None, 8, 8, 64)         65600     \n",
            " nspose)                                                         \n",
            "                                                                 \n",
            " bn_2 (BatchNormalization)   (None, 8, 8, 64)          256       \n",
            "                                                                 \n",
            " lrelu_2 (LeakyReLU)         (None, 8, 8, 64)          0         \n",
            "                                                                 \n",
            " conv_transpose_3 (Conv2DTra  (None, 16, 16, 64)       65600     \n",
            " nspose)                                                         \n",
            "                                                                 \n",
            " bn_3 (BatchNormalization)   (None, 16, 16, 64)        256       \n",
            "                                                                 \n",
            " lrelu_3 (LeakyReLU)         (None, 16, 16, 64)        0         \n",
            "                                                                 \n",
            " conv_transpose_4 (Conv2DTra  (None, 32, 32, 32)       32800     \n",
            " nspose)                                                         \n",
            "                                                                 \n",
            " bn_4 (BatchNormalization)   (None, 32, 32, 32)        128       \n",
            "                                                                 \n",
            " lrelu_4 (LeakyReLU)         (None, 32, 32, 32)        0         \n",
            "                                                                 \n",
            " conv_transpose_5 (Conv2DTra  (None, 64, 64, 1)        513       \n",
            " nspose)                                                         \n",
            "                                                                 \n",
            " bn_5 (BatchNormalization)   (None, 64, 64, 1)         4         \n",
            "                                                                 \n",
            " lrelu_5 (LeakyReLU)         (None, 64, 64, 1)         0         \n",
            "                                                                 \n",
            " conv_transpose_6 (Conv2DTra  (None, 64, 64, 1)        10        \n",
            " nspose)                                                         \n",
            "                                                                 \n",
            "=================================================================\n",
            "Total params: 181,871\n",
            "Trainable params: 181,421\n",
            "Non-trainable params: 450\n",
            "_________________________________________________________________\n"
          ]
        }
      ]
    },
    {
      "cell_type": "code",
      "source": [
        "EPOCHS = 30\n",
        "mfit = vqvae_trainer.fit(train_generator, epochs=EPOCHS, batch_size=64)"
      ],
      "metadata": {
        "id": "0doPT1Yhejfc",
        "outputId": "1e953291-aa30-458d-c69a-ac9d42beb90b",
        "colab": {
          "base_uri": "https://localhost:8080/",
          "height": 539
        }
      },
      "execution_count": 20,
      "outputs": [
        {
          "output_type": "stream",
          "name": "stdout",
          "text": [
            "Epoch 1/30\n"
          ]
        },
        {
          "output_type": "error",
          "ename": "ValueError",
          "evalue": "ignored",
          "traceback": [
            "\u001b[0;31m---------------------------------------------------------------------------\u001b[0m",
            "\u001b[0;31mValueError\u001b[0m                                Traceback (most recent call last)",
            "\u001b[0;32m<ipython-input-20-2055fc032cda>\u001b[0m in \u001b[0;36m<module>\u001b[0;34m\u001b[0m\n\u001b[1;32m      1\u001b[0m \u001b[0mEPOCHS\u001b[0m \u001b[0;34m=\u001b[0m \u001b[0;36m30\u001b[0m\u001b[0;34m\u001b[0m\u001b[0;34m\u001b[0m\u001b[0m\n\u001b[0;32m----> 2\u001b[0;31m \u001b[0mmfit\u001b[0m \u001b[0;34m=\u001b[0m \u001b[0mvqvae_trainer\u001b[0m\u001b[0;34m.\u001b[0m\u001b[0mfit\u001b[0m\u001b[0;34m(\u001b[0m\u001b[0mtrain_generator\u001b[0m\u001b[0;34m,\u001b[0m \u001b[0mepochs\u001b[0m\u001b[0;34m=\u001b[0m\u001b[0mEPOCHS\u001b[0m\u001b[0;34m,\u001b[0m \u001b[0mbatch_size\u001b[0m\u001b[0;34m=\u001b[0m\u001b[0;36m64\u001b[0m\u001b[0;34m)\u001b[0m\u001b[0;34m\u001b[0m\u001b[0;34m\u001b[0m\u001b[0m\n\u001b[0m",
            "\u001b[0;32m/usr/local/lib/python3.8/dist-packages/keras/utils/traceback_utils.py\u001b[0m in \u001b[0;36merror_handler\u001b[0;34m(*args, **kwargs)\u001b[0m\n\u001b[1;32m     65\u001b[0m     \u001b[0;32mexcept\u001b[0m \u001b[0mException\u001b[0m \u001b[0;32mas\u001b[0m \u001b[0me\u001b[0m\u001b[0;34m:\u001b[0m  \u001b[0;31m# pylint: disable=broad-except\u001b[0m\u001b[0;34m\u001b[0m\u001b[0;34m\u001b[0m\u001b[0m\n\u001b[1;32m     66\u001b[0m       \u001b[0mfiltered_tb\u001b[0m \u001b[0;34m=\u001b[0m \u001b[0m_process_traceback_frames\u001b[0m\u001b[0;34m(\u001b[0m\u001b[0me\u001b[0m\u001b[0;34m.\u001b[0m\u001b[0m__traceback__\u001b[0m\u001b[0;34m)\u001b[0m\u001b[0;34m\u001b[0m\u001b[0;34m\u001b[0m\u001b[0m\n\u001b[0;32m---> 67\u001b[0;31m       \u001b[0;32mraise\u001b[0m \u001b[0me\u001b[0m\u001b[0;34m.\u001b[0m\u001b[0mwith_traceback\u001b[0m\u001b[0;34m(\u001b[0m\u001b[0mfiltered_tb\u001b[0m\u001b[0;34m)\u001b[0m \u001b[0;32mfrom\u001b[0m \u001b[0;32mNone\u001b[0m\u001b[0;34m\u001b[0m\u001b[0;34m\u001b[0m\u001b[0m\n\u001b[0m\u001b[1;32m     68\u001b[0m     \u001b[0;32mfinally\u001b[0m\u001b[0;34m:\u001b[0m\u001b[0;34m\u001b[0m\u001b[0;34m\u001b[0m\u001b[0m\n\u001b[1;32m     69\u001b[0m       \u001b[0;32mdel\u001b[0m \u001b[0mfiltered_tb\u001b[0m\u001b[0;34m\u001b[0m\u001b[0;34m\u001b[0m\u001b[0m\n",
            "\u001b[0;32m/usr/local/lib/python3.8/dist-packages/keras/engine/training.py\u001b[0m in \u001b[0;36mtf__train_function\u001b[0;34m(iterator)\u001b[0m\n\u001b[1;32m     13\u001b[0m                 \u001b[0;32mtry\u001b[0m\u001b[0;34m:\u001b[0m\u001b[0;34m\u001b[0m\u001b[0;34m\u001b[0m\u001b[0m\n\u001b[1;32m     14\u001b[0m                     \u001b[0mdo_return\u001b[0m \u001b[0;34m=\u001b[0m \u001b[0;32mTrue\u001b[0m\u001b[0;34m\u001b[0m\u001b[0;34m\u001b[0m\u001b[0m\n\u001b[0;32m---> 15\u001b[0;31m                     \u001b[0mretval_\u001b[0m \u001b[0;34m=\u001b[0m \u001b[0mag__\u001b[0m\u001b[0;34m.\u001b[0m\u001b[0mconverted_call\u001b[0m\u001b[0;34m(\u001b[0m\u001b[0mag__\u001b[0m\u001b[0;34m.\u001b[0m\u001b[0mld\u001b[0m\u001b[0;34m(\u001b[0m\u001b[0mstep_function\u001b[0m\u001b[0;34m)\u001b[0m\u001b[0;34m,\u001b[0m \u001b[0;34m(\u001b[0m\u001b[0mag__\u001b[0m\u001b[0;34m.\u001b[0m\u001b[0mld\u001b[0m\u001b[0;34m(\u001b[0m\u001b[0mself\u001b[0m\u001b[0;34m)\u001b[0m\u001b[0;34m,\u001b[0m \u001b[0mag__\u001b[0m\u001b[0;34m.\u001b[0m\u001b[0mld\u001b[0m\u001b[0;34m(\u001b[0m\u001b[0miterator\u001b[0m\u001b[0;34m)\u001b[0m\u001b[0;34m)\u001b[0m\u001b[0;34m,\u001b[0m \u001b[0;32mNone\u001b[0m\u001b[0;34m,\u001b[0m \u001b[0mfscope\u001b[0m\u001b[0;34m)\u001b[0m\u001b[0;34m\u001b[0m\u001b[0;34m\u001b[0m\u001b[0m\n\u001b[0m\u001b[1;32m     16\u001b[0m                 \u001b[0;32mexcept\u001b[0m\u001b[0;34m:\u001b[0m\u001b[0;34m\u001b[0m\u001b[0;34m\u001b[0m\u001b[0m\n\u001b[1;32m     17\u001b[0m                     \u001b[0mdo_return\u001b[0m \u001b[0;34m=\u001b[0m \u001b[0;32mFalse\u001b[0m\u001b[0;34m\u001b[0m\u001b[0;34m\u001b[0m\u001b[0m\n",
            "\u001b[0;32m<ipython-input-18-e4177d3a31b7>\u001b[0m in \u001b[0;36mtrain_step\u001b[0;34m(self, x)\u001b[0m\n\u001b[1;32m     29\u001b[0m             \u001b[0;31m# Calculate the losses.\u001b[0m\u001b[0;34m\u001b[0m\u001b[0;34m\u001b[0m\u001b[0;34m\u001b[0m\u001b[0m\n\u001b[1;32m     30\u001b[0m             reconstruction_loss = (\n\u001b[0;32m---> 31\u001b[0;31m                 \u001b[0mtf\u001b[0m\u001b[0;34m.\u001b[0m\u001b[0mreduce_mean\u001b[0m\u001b[0;34m(\u001b[0m\u001b[0;34m(\u001b[0m\u001b[0mx\u001b[0m \u001b[0;34m-\u001b[0m \u001b[0mreconstructions\u001b[0m\u001b[0;34m)\u001b[0m \u001b[0;34m**\u001b[0m \u001b[0;36m2\u001b[0m\u001b[0;34m)\u001b[0m \u001b[0;34m/\u001b[0m \u001b[0mself\u001b[0m\u001b[0;34m.\u001b[0m\u001b[0mtrain_variance\u001b[0m\u001b[0;34m\u001b[0m\u001b[0;34m\u001b[0m\u001b[0m\n\u001b[0m\u001b[1;32m     32\u001b[0m             )\n\u001b[1;32m     33\u001b[0m             \u001b[0mtotal_loss\u001b[0m \u001b[0;34m=\u001b[0m \u001b[0mreconstruction_loss\u001b[0m \u001b[0;34m+\u001b[0m \u001b[0msum\u001b[0m\u001b[0;34m(\u001b[0m\u001b[0mself\u001b[0m\u001b[0;34m.\u001b[0m\u001b[0mvqvae\u001b[0m\u001b[0;34m.\u001b[0m\u001b[0mlosses\u001b[0m\u001b[0;34m)\u001b[0m\u001b[0;34m\u001b[0m\u001b[0;34m\u001b[0m\u001b[0m\n",
            "\u001b[0;31mValueError\u001b[0m: in user code:\n\n    File \"/usr/local/lib/python3.8/dist-packages/keras/engine/training.py\", line 1051, in train_function  *\n        return step_function(self, iterator)\n    File \"/usr/local/lib/python3.8/dist-packages/keras/engine/training.py\", line 1040, in step_function  **\n        outputs = model.distribute_strategy.run(run_step, args=(data,))\n    File \"/usr/local/lib/python3.8/dist-packages/keras/engine/training.py\", line 1030, in run_step  **\n        outputs = model.train_step(data)\n    File \"<ipython-input-18-e4177d3a31b7>\", line 31, in train_step\n        tf.reduce_mean((x - reconstructions) ** 2) / self.train_variance\n\n    ValueError: Dimensions must be equal, but are 128 and 64 for '{{node sub}} = Sub[T=DT_FLOAT](IteratorGetNext, vq_vae/decoder/conv_transpose_6/Sigmoid)' with input shapes: [?,128,128,1], [?,64,64,1].\n"
          ]
        }
      ]
    },
    {
      "cell_type": "code",
      "source": [
        "trained_vqvae_model = vqvae_trainer.vqvae"
      ],
      "metadata": {
        "id": "Y1X-rwFT9ug_"
      },
      "execution_count": null,
      "outputs": []
    },
    {
      "cell_type": "code",
      "source": [
        "from matplotlib import pyplot as plt\n",
        "%matplotlib inline\n",
        "\n",
        "# Plot del training loss y el accuracy\n",
        "def plot_loss(n_epochs, mfit):\n",
        "  loss = mfit.history['loss']\n",
        "  rec_loss = mfit.history['reconstruction_loss']\n",
        "  vqvae_loss = mfit.history['vqvae_loss']\n",
        "  \n",
        "  epochs = range(0,n_epochs)\n",
        "  plt.subplots(figsize=(15,10))\n",
        "  plt.plot(epochs, loss, 'g', label='Training Loss')\n",
        "  plt.plot(epochs, rec_loss, 'y', label='Reconstruction Loss')\n",
        "  plt.plot(epochs, vqvae_loss, 'b', label='VQ-VAE Loss')\n",
        "\n",
        "  plt.title('Model Loss and Accuracy')\n",
        "  plt.xticks(epochs)\n",
        "  plt.xlabel('Epochs')\n",
        "  plt.ylabel('Total')\n",
        "  plt.legend()\n",
        "  plt.show()\n",
        "\n",
        "plot_loss(EPOCHS, mfit)"
      ],
      "metadata": {
        "id": "s6zbV0-Fe9yX"
      },
      "execution_count": null,
      "outputs": []
    },
    {
      "cell_type": "code",
      "source": [
        "trained_vqvae_model = vqvae_trainer.vqvae\n",
        "y_pred = trained_vqvae_model.predict(test_generator)"
      ],
      "metadata": {
        "id": "pQmE3c9IffDU"
      },
      "execution_count": null,
      "outputs": []
    },
    {
      "cell_type": "code",
      "source": [
        "from matplotlib import pyplot as plt\n",
        "%matplotlib inline\n",
        "\n",
        "number_of_images = 10 #len(y_pred)\n",
        "fig, axes = plt.subplots(1, number_of_images, figsize=(25,25))\n",
        "\n",
        "# Show some images\n",
        "for i in range(len([0,1,2,3,4,5,6,7,8,9])):\n",
        "  image = y_pred[i]\n",
        "  image = image[:,:,0]\n",
        "  axes[i].imshow(image, cmap=\"gray\", origin=\"lower\")\n",
        "  # Display the first image in training data\n",
        "  #img = image[:,:,100]\n",
        "  plt.imshow(image, cmap='gray')"
      ],
      "metadata": {
        "id": "2WzhFpp3fn80"
      },
      "execution_count": null,
      "outputs": []
    },
    {
      "cell_type": "code",
      "source": [
        "plt.figure(figsize=[15,15])\n",
        "\n",
        "# Display the first image in training data\n",
        "plt.subplot(121)\n",
        "plt.imshow(image, cmap='gray')"
      ],
      "metadata": {
        "id": "XAiOd1vNhkbU",
        "outputId": "0ecfac80-ac22-414f-dbe4-4b533d568a9a",
        "colab": {
          "base_uri": "https://localhost:8080/",
          "height": 449
        }
      },
      "execution_count": null,
      "outputs": [
        {
          "output_type": "execute_result",
          "data": {
            "text/plain": [
              "<matplotlib.image.AxesImage at 0x7fed5606c3d0>"
            ]
          },
          "metadata": {},
          "execution_count": 16
        },
        {
          "output_type": "display_data",
          "data": {
            "text/plain": [
              "<Figure size 1080x1080 with 1 Axes>"
            ],
            "image/png": "[encoded data removed]"
          },
          "metadata": {
            "needs_background": "light"
          }
        }
      ]
    }
  ]
}