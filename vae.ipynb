{
  "nbformat": 4,
  "nbformat_minor": 0,
  "metadata": {
    "colab": {
      "provenance": [],
      "authorship_tag": "ABX9TyOsshPl7/0eGQKC4OOfKaSR",
      "include_colab_link": true
    },
    "kernelspec": {
      "name": "python3",
      "display_name": "Python 3"
    },
    "language_info": {
      "name": "python"
    }
  },
  "cells": [
    {
      "cell_type": "markdown",
      "metadata": {
        "id": "view-in-github",
        "colab_type": "text"
      },
      "source": [
        "<a href=\"https://colab.research.google.com/github/mtablado/uoc2022_tfm/blob/main/vae.ipynb\" target=\"_parent\"><img src=\"https://colab.research.google.com/assets/colab-badge.svg\" alt=\"Open In Colab\"/></a>"
      ]
    },
    {
      "cell_type": "markdown",
      "source": [
        "https://learnopencv.com/variational-autoencoder-in-tensorflow/\n",
        "\n",
        "https://keras.io/examples/generative/vae/"
      ],
      "metadata": {
        "id": "yHasBMHRxHb8"
      }
    },
    {
      "cell_type": "code",
      "execution_count": 1,
      "metadata": {
        "id": "_dhLG4xZbM9y"
      },
      "outputs": [],
      "source": [
        "import tensorflow as tf\n",
        "from tensorflow import keras\n",
        "from tensorflow.keras import layers\n",
        "from tensorflow.keras import backend as K\n",
        "from tensorflow.keras.models import Model\n",
        "from tensorflow.keras.optimizers import Adam, SGD, Adadelta, Adagrad\n",
        "import numpy as np\n",
        "import math"
      ]
    },
    {
      "cell_type": "code",
      "source": [
        "from tensorflow.compat.v1 import ConfigProto\n",
        "from tensorflow.compat.v1 import InteractiveSession\n",
        "\n",
        "config = ConfigProto()\n",
        "config.gpu_options.allow_growth = True\n",
        "session = InteractiveSession(config=config)"
      ],
      "metadata": {
        "id": "edtgkvZzbWoW"
      },
      "execution_count": 2,
      "outputs": []
    },
    {
      "cell_type": "code",
      "source": [
        "from google.colab import drive\n",
        "drive.mount('/content/drive')"
      ],
      "metadata": {
        "colab": {
          "base_uri": "https://localhost:8080/"
        },
        "id": "kJFQ5I2cbZtm",
        "outputId": "cc33efa9-681b-4d7e-cc32-e0a02829de56"
      },
      "execution_count": 3,
      "outputs": [
        {
          "output_type": "stream",
          "name": "stdout",
          "text": [
            "Mounted at /content/drive\n"
          ]
        }
      ]
    },
    {
      "cell_type": "code",
      "source": [
        "class Sampling(layers.Layer):\n",
        "    \"\"\"Uses (z_mean, z_log_var) to sample z, the vector encoding a digit.\"\"\"\n",
        "\n",
        "    def call(self, inputs):\n",
        "        z_mean, z_log_var = inputs\n",
        "        batch = tf.shape(z_mean)[0]\n",
        "        dim = tf.shape(z_mean)[1]\n",
        "        epsilon = tf.keras.backend.random_normal(shape=(batch, dim))\n",
        "        return z_mean + tf.exp(0.5 * z_log_var) * epsilon"
      ],
      "metadata": {
        "id": "9el8GlkAbaS0"
      },
      "execution_count": 4,
      "outputs": []
    },
    {
      "cell_type": "code",
      "source": [
        "def vae_encoder():\n",
        "  latent_dim = 2\n",
        "\n",
        "  inputs = keras.Input(shape=(256, 256, 1), name='input_layer')\n",
        "\n",
        "  # Block-1\n",
        "  x = layers.Conv2D(32, kernel_size=3, strides= 2, padding='same', name='conv_1')(inputs)\n",
        "  x = layers.BatchNormalization(name='bn_1')(x)\n",
        "  x = layers.LeakyReLU(name='lrelu_1')(x)\n",
        "\n",
        "  # Block-2\n",
        "  x = layers.Conv2D(64, kernel_size=3, strides= 2, padding='same', name='conv_2')(x)\n",
        "  x = layers.BatchNormalization(name='bn_2')(x)\n",
        "  x = layers.LeakyReLU(name='lrelu_2')(x)\n",
        "\n",
        "  # Block-3\n",
        "  x = layers.Conv2D(64, 3, 2, padding='same', name='conv_3')(x)\n",
        "  x = layers.BatchNormalization(name='bn_3')(x)\n",
        "  x = layers.LeakyReLU(name='lrelu_3')(x)\n",
        "\n",
        "  # Block-4\n",
        "  x = layers.Conv2D(64, 3, 2, padding='same', name='conv_4')(x)\n",
        "  x = layers.BatchNormalization(name='bn_4')(x)\n",
        "  x = layers.LeakyReLU(name='lrelu_4')(x)\n",
        "\n",
        "  # Block-5\n",
        "  x = layers.Conv2D(64, 3, 2, padding='same', name='conv_5')(x)\n",
        "  x = layers.BatchNormalization(name='bn_5')(x)\n",
        "  x = layers.LeakyReLU(name='lrelu_5')(x)\n",
        "\n",
        "  # Final Block\n",
        "  flatten = layers.Flatten()(x)\n",
        "  mean = layers.Dense(200, name='mean')(flatten)\n",
        "  log_var = layers.Dense(200, name='log_var')(flatten)\n",
        "  z = Sampling()([mean, log_var])\n",
        "  model = tf.keras.Model(inputs, (mean, log_var, z), name=\"Encoder\")\n",
        "  model.summary()\n",
        "  return model\n",
        "\n",
        "my_encoder = vae_encoder()"
      ],
      "metadata": {
        "colab": {
          "base_uri": "https://localhost:8080/"
        },
        "id": "JUVpfaJIbkj2",
        "outputId": "70c445dc-80c6-463f-c25b-47639f828894"
      },
      "execution_count": 5,
      "outputs": [
        {
          "output_type": "stream",
          "name": "stdout",
          "text": [
            "Model: \"Encoder\"\n",
            "__________________________________________________________________________________________________\n",
            " Layer (type)                   Output Shape         Param #     Connected to                     \n",
            "==================================================================================================\n",
            " input_layer (InputLayer)       [(None, 256, 256, 1  0           []                               \n",
            "                                )]                                                                \n",
            "                                                                                                  \n",
            " conv_1 (Conv2D)                (None, 128, 128, 32  320         ['input_layer[0][0]']            \n",
            "                                )                                                                 \n",
            "                                                                                                  \n",
            " bn_1 (BatchNormalization)      (None, 128, 128, 32  128         ['conv_1[0][0]']                 \n",
            "                                )                                                                 \n",
            "                                                                                                  \n",
            " lrelu_1 (LeakyReLU)            (None, 128, 128, 32  0           ['bn_1[0][0]']                   \n",
            "                                )                                                                 \n",
            "                                                                                                  \n",
            " conv_2 (Conv2D)                (None, 64, 64, 64)   18496       ['lrelu_1[0][0]']                \n",
            "                                                                                                  \n",
            " bn_2 (BatchNormalization)      (None, 64, 64, 64)   256         ['conv_2[0][0]']                 \n",
            "                                                                                                  \n",
            " lrelu_2 (LeakyReLU)            (None, 64, 64, 64)   0           ['bn_2[0][0]']                   \n",
            "                                                                                                  \n",
            " conv_3 (Conv2D)                (None, 32, 32, 64)   36928       ['lrelu_2[0][0]']                \n",
            "                                                                                                  \n",
            " bn_3 (BatchNormalization)      (None, 32, 32, 64)   256         ['conv_3[0][0]']                 \n",
            "                                                                                                  \n",
            " lrelu_3 (LeakyReLU)            (None, 32, 32, 64)   0           ['bn_3[0][0]']                   \n",
            "                                                                                                  \n",
            " conv_4 (Conv2D)                (None, 16, 16, 64)   36928       ['lrelu_3[0][0]']                \n",
            "                                                                                                  \n",
            " bn_4 (BatchNormalization)      (None, 16, 16, 64)   256         ['conv_4[0][0]']                 \n",
            "                                                                                                  \n",
            " lrelu_4 (LeakyReLU)            (None, 16, 16, 64)   0           ['bn_4[0][0]']                   \n",
            "                                                                                                  \n",
            " conv_5 (Conv2D)                (None, 8, 8, 64)     36928       ['lrelu_4[0][0]']                \n",
            "                                                                                                  \n",
            " bn_5 (BatchNormalization)      (None, 8, 8, 64)     256         ['conv_5[0][0]']                 \n",
            "                                                                                                  \n",
            " lrelu_5 (LeakyReLU)            (None, 8, 8, 64)     0           ['bn_5[0][0]']                   \n",
            "                                                                                                  \n",
            " flatten (Flatten)              (None, 4096)         0           ['lrelu_5[0][0]']                \n",
            "                                                                                                  \n",
            " mean (Dense)                   (None, 200)          819400      ['flatten[0][0]']                \n",
            "                                                                                                  \n",
            " log_var (Dense)                (None, 200)          819400      ['flatten[0][0]']                \n",
            "                                                                                                  \n",
            " sampling (Sampling)            (None, 200)          0           ['mean[0][0]',                   \n",
            "                                                                  'log_var[0][0]']                \n",
            "                                                                                                  \n",
            "==================================================================================================\n",
            "Total params: 1,769,552\n",
            "Trainable params: 1,768,976\n",
            "Non-trainable params: 576\n",
            "__________________________________________________________________________________________________\n"
          ]
        }
      ]
    },
    {
      "cell_type": "code",
      "source": [
        "def vae_decoder():\n",
        "  inputs = keras.Input(shape=(200,), name='input_layer')\n",
        "  x = layers.Dense(4096, name='dense_1')(inputs)\n",
        "  x = layers.Reshape((8,8,64), name='Reshape')(x)\n",
        "\n",
        "  # Block-1\n",
        "  x = layers.Conv2DTranspose(64, 3, strides= 2, padding='same',name='conv_transpose_1')(x)\n",
        "  x = layers.BatchNormalization(name='bn_1')(x)\n",
        "  x = layers.LeakyReLU(name='lrelu_1')(x)\n",
        "\n",
        "  # Block-2\n",
        "  x = layers.Conv2DTranspose(64, 3, strides= 2, padding='same', name='conv_transpose_2')(x)\n",
        "  x = layers.BatchNormalization(name='bn_2')(x)\n",
        "  x = layers.LeakyReLU(name='lrelu_2')(x)\n",
        "\n",
        "  # Block-3\n",
        "  x = layers.Conv2DTranspose(64, 3, 2, padding='same', name='conv_transpose_3')(x)\n",
        "  x = layers.BatchNormalization(name='bn_3')(x)\n",
        "  x = layers.LeakyReLU(name='lrelu_3')(x)\n",
        "\n",
        "  # Block-4\n",
        "  x = layers.Conv2DTranspose(32, 3, 2, padding='same', name='conv_transpose_4')(x)\n",
        "  x = layers.BatchNormalization(name='bn_4')(x)\n",
        "  x = layers.LeakyReLU(name='lrelu_4')(x)\n",
        "\n",
        "  # Block-5\n",
        "  outputs = layers.Conv2DTranspose(1, 3, 2,padding='same', activation='sigmoid', name='conv_transpose_5')(x)\n",
        "  model = tf.keras.Model(inputs, outputs, name=\"Decoder\")\n",
        "  model.summary()\n",
        "  return model\n",
        "\n",
        "my_decoder = vae_decoder()"
      ],
      "metadata": {
        "colab": {
          "base_uri": "https://localhost:8080/"
        },
        "id": "aAvh0mpMbn0i",
        "outputId": "3596b567-9dd1-40f7-9fdc-d8ed7837f6d7"
      },
      "execution_count": 6,
      "outputs": [
        {
          "output_type": "stream",
          "name": "stdout",
          "text": [
            "Model: \"Decoder\"\n",
            "_________________________________________________________________\n",
            " Layer (type)                Output Shape              Param #   \n",
            "=================================================================\n",
            " input_layer (InputLayer)    [(None, 200)]             0         \n",
            "                                                                 \n",
            " dense_1 (Dense)             (None, 4096)              823296    \n",
            "                                                                 \n",
            " Reshape (Reshape)           (None, 8, 8, 64)          0         \n",
            "                                                                 \n",
            " conv_transpose_1 (Conv2DTra  (None, 16, 16, 64)       36928     \n",
            " nspose)                                                         \n",
            "                                                                 \n",
            " bn_1 (BatchNormalization)   (None, 16, 16, 64)        256       \n",
            "                                                                 \n",
            " lrelu_1 (LeakyReLU)         (None, 16, 16, 64)        0         \n",
            "                                                                 \n",
            " conv_transpose_2 (Conv2DTra  (None, 32, 32, 64)       36928     \n",
            " nspose)                                                         \n",
            "                                                                 \n",
            " bn_2 (BatchNormalization)   (None, 32, 32, 64)        256       \n",
            "                                                                 \n",
            " lrelu_2 (LeakyReLU)         (None, 32, 32, 64)        0         \n",
            "                                                                 \n",
            " conv_transpose_3 (Conv2DTra  (None, 64, 64, 64)       36928     \n",
            " nspose)                                                         \n",
            "                                                                 \n",
            " bn_3 (BatchNormalization)   (None, 64, 64, 64)        256       \n",
            "                                                                 \n",
            " lrelu_3 (LeakyReLU)         (None, 64, 64, 64)        0         \n",
            "                                                                 \n",
            " conv_transpose_4 (Conv2DTra  (None, 128, 128, 32)     18464     \n",
            " nspose)                                                         \n",
            "                                                                 \n",
            " bn_4 (BatchNormalization)   (None, 128, 128, 32)      128       \n",
            "                                                                 \n",
            " lrelu_4 (LeakyReLU)         (None, 128, 128, 32)      0         \n",
            "                                                                 \n",
            " conv_transpose_5 (Conv2DTra  (None, 256, 256, 1)      289       \n",
            " nspose)                                                         \n",
            "                                                                 \n",
            "=================================================================\n",
            "Total params: 953,729\n",
            "Trainable params: 953,281\n",
            "Non-trainable params: 448\n",
            "_________________________________________________________________\n"
          ]
        }
      ]
    },
    {
      "cell_type": "code",
      "source": [
        "class VAE(keras.Model):\n",
        "    def __init__(self, encoder, decoder, **kwargs):\n",
        "        super(VAE, self).__init__(**kwargs)\n",
        "        self.encoder = encoder\n",
        "        self.decoder = decoder\n",
        "        self.total_loss_tracker = keras.metrics.Mean(name=\"total_loss\")\n",
        "        self.reconstruction_loss_tracker = keras.metrics.Mean(\n",
        "            name=\"reconstruction_loss\"\n",
        "        )\n",
        "        self.kl_loss_tracker = keras.metrics.Mean(name=\"kl_loss\")\n",
        "\n",
        "    @property\n",
        "    def metrics(self):\n",
        "        return [\n",
        "            self.total_loss_tracker,\n",
        "            self.reconstruction_loss_tracker,\n",
        "            self.kl_loss_tracker,\n",
        "        ]\n",
        "\n",
        "    def train_step(self, data):\n",
        "        with tf.GradientTape() as tape:\n",
        "            z_mean, z_log_var, z = self.encoder(data)\n",
        "            reconstruction = self.decoder(z)\n",
        "            reconstruction_loss = tf.reduce_mean(\n",
        "                tf.reduce_sum(\n",
        "                    keras.losses.binary_crossentropy(data, reconstruction), axis=(1, 2)\n",
        "                )\n",
        "            )\n",
        "            kl_loss = -0.5 * (1 + z_log_var - tf.square(z_mean) - tf.exp(z_log_var))\n",
        "            kl_loss = tf.reduce_mean(tf.reduce_sum(kl_loss, axis=1))\n",
        "            total_loss = reconstruction_loss + kl_loss\n",
        "        grads = tape.gradient(total_loss, self.trainable_weights)\n",
        "        self.optimizer.apply_gradients(zip(grads, self.trainable_weights))\n",
        "        self.total_loss_tracker.update_state(total_loss)\n",
        "        self.reconstruction_loss_tracker.update_state(reconstruction_loss)\n",
        "        self.kl_loss_tracker.update_state(kl_loss)\n",
        "        result = {\n",
        "            \"loss\": self.total_loss_tracker.result(),\n",
        "            \"reconstruction_loss\": self.reconstruction_loss_tracker.result(),\n",
        "            \"kl_loss\": self.kl_loss_tracker.result(),\n",
        "        }\n",
        "        return result \n"
      ],
      "metadata": {
        "id": "zmxHbPG4brFe"
      },
      "execution_count": 7,
      "outputs": []
    },
    {
      "cell_type": "code",
      "source": [
        "%cd /content/drive/My Drive/tfm/dataset/images\n",
        "from keras.preprocessing.image import ImageDataGenerator\n",
        "\n",
        "train_datagen = ImageDataGenerator(\n",
        "        rescale=1./255,\n",
        "        shear_range=0.2,\n",
        "        zoom_range=0.2,\n",
        "        horizontal_flip=True)\n",
        "train_generator = train_datagen.flow_from_directory(\n",
        "        'training',\n",
        "        target_size=(256, 256),\n",
        "        batch_size=32,\n",
        "        color_mode='grayscale',\n",
        "        class_mode=None)\n",
        "\n",
        "test_datagen = ImageDataGenerator(rescale=1./255)\n",
        "\n",
        "test_generator = test_datagen.flow_from_directory(\n",
        "        'test',\n",
        "        target_size=(256, 256),\n",
        "        batch_size=32,\n",
        "        color_mode='grayscale',\n",
        "        class_mode=None)"
      ],
      "metadata": {
        "colab": {
          "base_uri": "https://localhost:8080/"
        },
        "id": "naTJxG4kbtfA",
        "outputId": "e2c55480-4676-4904-e543-88b1c3ba92c6"
      },
      "execution_count": 13,
      "outputs": [
        {
          "output_type": "stream",
          "name": "stdout",
          "text": [
            "/content/drive/My Drive/tfm/dataset/images\n",
            "Found 62 images belonging to 1 classes.\n",
            "Found 20 images belonging to 1 classes.\n"
          ]
        }
      ]
    },
    {
      "cell_type": "code",
      "source": [
        "import timeit\n",
        "vae = VAE(my_encoder, my_decoder)\n",
        "vae.compile(\n",
        "    optimizer=keras.optimizers.Adam())\n",
        "\n",
        "# Entrenar el modelo\n",
        "t0 = timeit.default_timer()\n",
        "\n",
        "mfit = vae.fit(train_generator, epochs=30, batch_size=62)\n",
        "training_time_ann = timeit.default_timer() - t0"
      ],
      "metadata": {
        "colab": {
          "base_uri": "https://localhost:8080/"
        },
        "id": "FcpHzj4lbv-m",
        "outputId": "8f075c89-4b81-467b-f40b-48e8d173e7a5"
      },
      "execution_count": 12,
      "outputs": [
        {
          "output_type": "stream",
          "name": "stdout",
          "text": [
            "Epoch 1/30\n",
            "{'loss': <tf.Tensor 'Identity:0' shape=() dtype=float32>, 'reconstruction_loss': <tf.Tensor 'Identity_1:0' shape=() dtype=float32>, 'kl_loss': <tf.Tensor 'Identity_2:0' shape=() dtype=float32>}\n",
            "{'loss': <tf.Tensor 'Identity:0' shape=() dtype=float32>, 'reconstruction_loss': <tf.Tensor 'Identity_1:0' shape=() dtype=float32>, 'kl_loss': <tf.Tensor 'Identity_2:0' shape=() dtype=float32>}\n",
            "2/2 [==============================] - 7s 2s/step - loss: 45400.2070 - reconstruction_loss: 45383.7305 - kl_loss: 0.0254\n",
            "Epoch 2/30\n",
            "2/2 [==============================] - 7s 2s/step - loss: 45176.5221 - reconstruction_loss: 45151.4453 - kl_loss: 0.8188\n",
            "Epoch 3/30\n",
            "2/2 [==============================] - 4s 2s/step - loss: 44774.8594 - reconstruction_loss: 44673.6602 - kl_loss: 40.0808\n",
            "Epoch 4/30\n",
            "2/2 [==============================] - 4s 2s/step - loss: 43495.9375 - reconstruction_loss: 42185.5156 - kl_loss: 1123.0474\n",
            "Epoch 5/30\n",
            "2/2 [==============================] - 5s 2s/step - loss: 40020.4844 - reconstruction_loss: 39264.5586 - kl_loss: 572.1945\n",
            "Epoch 6/30\n",
            "2/2 [==============================] - 5s 2s/step - loss: 38262.6432 - reconstruction_loss: 37926.2812 - kl_loss: 159.1014\n",
            "Epoch 7/30\n",
            "2/2 [==============================] - 4s 2s/step - loss: 36986.8685 - reconstruction_loss: 37157.2812 - kl_loss: 74.6320\n",
            "Epoch 8/30\n",
            "2/2 [==============================] - 4s 2s/step - loss: 36482.6367 - reconstruction_loss: 36522.1250 - kl_loss: 33.9292\n",
            "Epoch 9/30\n",
            "2/2 [==============================] - 4s 2s/step - loss: 35752.3919 - reconstruction_loss: 35648.1445 - kl_loss: 18.9966\n",
            "Epoch 10/30\n",
            "2/2 [==============================] - 4s 2s/step - loss: 36063.0951 - reconstruction_loss: 36030.7109 - kl_loss: 26.9704\n",
            "Epoch 11/30\n",
            "2/2 [==============================] - 4s 2s/step - loss: 35226.4323 - reconstruction_loss: 35392.7695 - kl_loss: 12.8033\n",
            "Epoch 12/30\n",
            "2/2 [==============================] - 5s 2s/step - loss: 35735.6745 - reconstruction_loss: 35636.6406 - kl_loss: 8.7665\n",
            "Epoch 13/30\n",
            "2/2 [==============================] - 4s 2s/step - loss: 35197.2878 - reconstruction_loss: 35251.1641 - kl_loss: 12.8456\n",
            "Epoch 14/30\n",
            "2/2 [==============================] - 4s 2s/step - loss: 36203.4883 - reconstruction_loss: 35808.3203 - kl_loss: 12.6475\n",
            "Epoch 15/30\n",
            "2/2 [==============================] - 4s 2s/step - loss: 35117.5508 - reconstruction_loss: 35073.5234 - kl_loss: 9.1859\n",
            "Epoch 16/30\n",
            "2/2 [==============================] - 4s 2s/step - loss: 34619.7318 - reconstruction_loss: 34516.8984 - kl_loss: 11.6653\n",
            "Epoch 17/30\n",
            "2/2 [==============================] - 5s 2s/step - loss: 35235.5117 - reconstruction_loss: 35303.3242 - kl_loss: 18.7317\n",
            "Epoch 18/30\n",
            "2/2 [==============================] - 4s 2s/step - loss: 34968.3138 - reconstruction_loss: 35071.3906 - kl_loss: 17.0698\n",
            "Epoch 19/30\n",
            "2/2 [==============================] - 4s 2s/step - loss: 34870.5391 - reconstruction_loss: 34890.7617 - kl_loss: 12.7123\n",
            "Epoch 20/30\n",
            "2/2 [==============================] - 4s 2s/step - loss: 34651.4583 - reconstruction_loss: 34509.6172 - kl_loss: 13.2163\n",
            "Epoch 21/30\n",
            "2/2 [==============================] - 4s 2s/step - loss: 34638.1315 - reconstruction_loss: 34589.1953 - kl_loss: 18.6259\n",
            "Epoch 22/30\n",
            "2/2 [==============================] - 5s 2s/step - loss: 34746.6667 - reconstruction_loss: 34719.4688 - kl_loss: 22.6686\n",
            "Epoch 23/30\n",
            "2/2 [==============================] - 5s 2s/step - loss: 34485.7109 - reconstruction_loss: 34479.3789 - kl_loss: 18.9572\n",
            "Epoch 24/30\n",
            "2/2 [==============================] - 4s 2s/step - loss: 34960.2552 - reconstruction_loss: 34909.5312 - kl_loss: 16.5454\n",
            "Epoch 25/30\n",
            "2/2 [==============================] - 4s 2s/step - loss: 34733.1523 - reconstruction_loss: 34518.0000 - kl_loss: 18.3843\n",
            "Epoch 26/30\n",
            "2/2 [==============================] - 4s 2s/step - loss: 34272.1367 - reconstruction_loss: 34366.2461 - kl_loss: 24.5300\n",
            "Epoch 27/30\n",
            "2/2 [==============================] - 4s 2s/step - loss: 34195.5651 - reconstruction_loss: 34355.8945 - kl_loss: 27.7379\n",
            "Epoch 28/30\n",
            "2/2 [==============================] - 4s 2s/step - loss: 34183.9531 - reconstruction_loss: 34216.1484 - kl_loss: 23.8428\n",
            "Epoch 29/30\n",
            "2/2 [==============================] - 4s 2s/step - loss: 35053.7148 - reconstruction_loss: 34995.4453 - kl_loss: 21.6441\n",
            "Epoch 30/30\n",
            "2/2 [==============================] - 4s 2s/step - loss: 34224.2930 - reconstruction_loss: 34317.3750 - kl_loss: 23.8175\n"
          ]
        }
      ]
    },
    {
      "cell_type": "code",
      "source": [
        "mean, log_var, z = my_encoder.predict(test_generator)\n",
        "y_pred = my_decoder.predict(z)"
      ],
      "metadata": {
        "colab": {
          "base_uri": "https://localhost:8080/"
        },
        "id": "pQmE3c9IffDU",
        "outputId": "5e24032f-7e47-4f18-fa58-ec6a0f9e7d1c"
      },
      "execution_count": 15,
      "outputs": [
        {
          "output_type": "stream",
          "name": "stdout",
          "text": [
            "1/1 [==============================] - 0s 482ms/step\n",
            "1/1 [==============================] - 0s 493ms/step\n"
          ]
        }
      ]
    },
    {
      "cell_type": "code",
      "source": [
        "from matplotlib import pyplot as plt\n",
        "%matplotlib inline\n",
        "\n",
        "fig, axes = plt.subplots(1, len(y_pred), figsize=(25,25))\n",
        "\n",
        "for i in range(len(y_pred)):\n",
        "  image = y_pred[1]\n",
        "  image = image[:,:,0]\n",
        "  axes[i].imshow(image, cmap=\"gray\", origin=\"lower\")\n",
        "  # Display the first image in training data\n",
        "  #img = image[:,:,100]\n",
        "  plt.imshow(image, cmap='gray')"
      ],
      "metadata": {
        "colab": {
          "base_uri": "https://localhost:8080/",
          "height": 110
        },
        "id": "2WzhFpp3fn80",
        "outputId": "9f0c0489-bbba-484b-a440-ae7564d3a903"
      },
      "execution_count": 16,
      "outputs": [
        {
          "output_type": "display_data",
          "data": {
            "text/plain": [
              "<Figure size 1800x1800 with 20 Axes>"
            ],
            "image/png": "[encoded data removed]"
          },
          "metadata": {
            "needs_background": "light"
          }
        }
      ]
    }
  ]
}