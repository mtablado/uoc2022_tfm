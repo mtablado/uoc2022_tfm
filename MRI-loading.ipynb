{
  "nbformat": 4,
  "nbformat_minor": 0,
  "metadata": {
    "colab": {
      "name": "Untitled1.ipynb",
      "provenance": [],
      "authorship_tag": "ABX9TyMlHj98kWwCbDklH8f5eUON",
      "include_colab_link": true
    },
    "kernelspec": {
      "name": "python3",
      "display_name": "Python 3"
    },
    "language_info": {
      "name": "python"
    },
    "gpuClass": "standard"
  },
  "cells": [
    {
      "cell_type": "markdown",
      "metadata": {
        "id": "view-in-github",
        "colab_type": "text"
      },
      "source": [
        "<a href=\"https://colab.research.google.com/github/mtablado/uoc2022_tfm/blob/main/MRI-loading.ipynb\" target=\"_parent\"><img src=\"https://colab.research.google.com/assets/colab-badge.svg\" alt=\"Open In Colab\"/></a>"
      ]
    },
    {
      "cell_type": "code",
      "source": [
        "import tensorflow as tf\n",
        "from tensorflow import keras\n",
        "import numpy as np\n",
        "import math\n",
        "import os"
      ],
      "metadata": {
        "id": "pjA5LfM3gANF"
      },
      "execution_count": 1,
      "outputs": []
    },
    {
      "cell_type": "code",
      "execution_count": 2,
      "metadata": {
        "id": "F3YYhJObloTn",
        "outputId": "4a560487-42b0-432b-e868-38b9be84003c",
        "colab": {
          "base_uri": "https://localhost:8080/"
        }
      },
      "outputs": [
        {
          "output_type": "stream",
          "name": "stdout",
          "text": [
            "Mounted at /content/drive\n"
          ]
        }
      ],
      "source": [
        "from google.colab import drive\n",
        "drive.mount('/content/drive')"
      ]
    },
    {
      "cell_type": "code",
      "source": [
        "# añade el path a tu directorio\n",
        "%cd /content/drive/My Drive/tfm/dataset/IXI-T1"
      ],
      "metadata": {
        "id": "sHWKWOAwnFWd",
        "outputId": "05b30242-abb1-4ff5-8e05-36beb08b8178",
        "colab": {
          "base_uri": "https://localhost:8080/"
        }
      },
      "execution_count": 3,
      "outputs": [
        {
          "output_type": "stream",
          "name": "stdout",
          "text": [
            "/content/drive/My Drive/tfm/dataset/IXI-T1\n"
          ]
        }
      ]
    },
    {
      "cell_type": "code",
      "source": [
        "import glob\n",
        "import nibabel as nib #reading MR images\n",
        "\n",
        "from matplotlib import pyplot as plt\n",
        "%matplotlib inline"
      ],
      "metadata": {
        "id": "Z-JISVcbnX9c"
      },
      "execution_count": 4,
      "outputs": []
    },
    {
      "cell_type": "code",
      "source": [
        "ff = glob.glob('./*')\n",
        "ff[0]"
      ],
      "metadata": {
        "id": "6UAr1GaOnhSu",
        "outputId": "917a7b7e-b3df-4fa1-e4c7-703e447bb20d",
        "colab": {
          "base_uri": "https://localhost:8080/",
          "height": 35
        }
      },
      "execution_count": 5,
      "outputs": [
        {
          "output_type": "execute_result",
          "data": {
            "text/plain": [
              "'./IXI023-Guys-0699-T1.nii.gz'"
            ],
            "application/vnd.google.colaboratory.intrinsic+json": {
              "type": "string"
            }
          },
          "metadata": {},
          "execution_count": 5
        }
      ]
    },
    {
      "cell_type": "code",
      "source": [
        "len(ff[0])"
      ],
      "metadata": {
        "id": "MZabB29QnuFb",
        "outputId": "775a6241-dc39-4c7e-8b03-ca4a8755fbc1",
        "colab": {
          "base_uri": "https://localhost:8080/"
        }
      },
      "execution_count": 6,
      "outputs": [
        {
          "output_type": "execute_result",
          "data": {
            "text/plain": [
              "28"
            ]
          },
          "metadata": {},
          "execution_count": 6
        }
      ]
    },
    {
      "cell_type": "code",
      "source": [
        "def load_slices(file):\n",
        "  a = nib.load(file)\n",
        "  a = a.get_fdata()\n",
        "  a = a[:,80:100,:]\n",
        "  return a\n",
        "\n",
        "def extract_slices(list: ff) -> np.ndarray:\n",
        "  \"\"\" \n",
        "  It extracts the slices of the MRI images stored in the given files \n",
        "  Arguments:\n",
        "      ff: list of nifti files\n",
        "  Returns:\n",
        "      An array with the selected slices from the different files  \n",
        "  \"\"\"\n",
        "  images = []\n",
        "  for f in range(len(ff)):\n",
        "    a = load_slices(ff[f])\n",
        "    for i in range(a.shape[1]):\n",
        "      images.append((a[:,i,:]))\n",
        "  return images\n",
        "\n",
        "# Make sure we are at the expected directory\n",
        "%cd /content/drive/My Drive/tfm/dataset/IXI-T1\n",
        "\n",
        "# Extract slices from files\n",
        "images = extract_slices(ff)\n",
        "\n",
        "image = images[1]\n",
        "\n",
        "print (image.shape)"
      ],
      "metadata": {
        "id": "bgJmHfdQoHuK",
        "outputId": "a503b618-d2e6-45c8-9009-dcbb60008490",
        "colab": {
          "base_uri": "https://localhost:8080/"
        }
      },
      "execution_count": null,
      "outputs": [
        {
          "output_type": "stream",
          "name": "stdout",
          "text": [
            "/content/drive/My Drive/tfm/dataset/IXI-T1\n"
          ]
        }
      ]
    },
    {
      "cell_type": "code",
      "source": [
        "print(len(images))\n",
        "print(images[1].shape)\n",
        "print(type(image))"
      ],
      "metadata": {
        "id": "BKfoyAco83Zi"
      },
      "execution_count": null,
      "outputs": []
    },
    {
      "cell_type": "code",
      "source": [
        "print(image[100,50])"
      ],
      "metadata": {
        "id": "OMCQEjYzH-aL"
      },
      "execution_count": null,
      "outputs": []
    },
    {
      "cell_type": "code",
      "source": [
        "plt.figure(figsize=[5,5])\n",
        "\n",
        "# Display the first image in training data\n",
        "plt.subplot(121)\n",
        "#img = image[:,:,100]\n",
        "plt.imshow(image, cmap='gray')\n",
        "\n"
      ],
      "metadata": {
        "id": "yYiBwpX_pT_w"
      },
      "execution_count": null,
      "outputs": []
    },
    {
      "cell_type": "code",
      "source": [
        "import matplotlib\n",
        "import random\n",
        "\n",
        "def save_slices(images):\n",
        "  \"\"\"\n",
        "  Saves the slices given as an array on 3 different directories after being\n",
        "  randomly shuffled to avoid overfitting.\n",
        "  The 3 directoires at drive will be 'training', 'test', 'validation'\n",
        "  Arguments:\n",
        "    images: array with MRI brain slices\n",
        "  \"\"\"\n",
        "  # Shuffle images to be stored randomly on training, validation and test dirs\n",
        "  random.shuffle(images)\n",
        "\n",
        "  total = len(images)\n",
        "  print(total)\n",
        "  for i, image in enumerate(images):\n",
        "    name = str(i) + '.png'\n",
        "    if (i > 0.8 * total):\n",
        "      name = 'test/' + name\n",
        "    elif (i > 0.6 * total):\n",
        "      name = 'validation/' + name\n",
        "    else:\n",
        "      name = 'training/' + name\n",
        "    \n",
        "    matplotlib.image.imsave(name, image, cmap='gray')\n",
        "\n",
        "# añade el path a tu directorio\n",
        "%cd /content/drive/My Drive/tfm/dataset/images\n",
        "try:\n",
        "  os.mkdir('/content/drive/My Drive/tfm/dataset/images/training', mode=644)\n",
        "  os.mkdir('/content/drive/My Drive/tfm/dataset/images/validation', mode=644)\n",
        "  os.mkdir('/content/drive/My Drive/tfm/dataset/images/test', mode=644)\n",
        "except:\n",
        "  print('directories already exist')\n",
        "save_slices(images)"
      ],
      "metadata": {
        "id": "ZUgMm5cSJIAI"
      },
      "execution_count": null,
      "outputs": []
    },
    {
      "cell_type": "code",
      "source": [
        "f, big_axes = plt.subplots(15,10, figsize=(25,25))\n",
        "\n",
        "for i in range(0,15):\n",
        "  for j in range(0,10):\n",
        "    slice_position = ((i - 1) * 10) + j\n",
        "    big_axes[i,j].imshow(image[:,:,slice_position], cmap='gray')\n",
        "\n",
        "\n"
      ],
      "metadata": {
        "id": "fJ9oEcU_p9IU"
      },
      "execution_count": null,
      "outputs": []
    }
  ]
}