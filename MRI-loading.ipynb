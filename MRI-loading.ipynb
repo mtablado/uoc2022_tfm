{
  "nbformat": 4,
  "nbformat_minor": 0,
  "metadata": {
    "colab": {
      "name": "Untitled1.ipynb",
      "provenance": [],
      "include_colab_link": true
    },
    "kernelspec": {
      "name": "python3",
      "display_name": "Python 3"
    },
    "language_info": {
      "name": "python"
    },
    "gpuClass": "standard"
  },
  "cells": [
    {
      "cell_type": "markdown",
      "metadata": {
        "id": "view-in-github",
        "colab_type": "text"
      },
      "source": [
        "<a href=\"https://colab.research.google.com/github/mtablado/uoc2022_tfm/blob/main/MRI-loading.ipynb\" target=\"_parent\"><img src=\"https://colab.research.google.com/assets/colab-badge.svg\" alt=\"Open In Colab\"/></a>"
      ]
    },
    {
      "cell_type": "code",
      "source": [
        "import tensorflow as tf\n",
        "from tensorflow import keras\n",
        "import numpy as np\n",
        "import math\n",
        "import os\n",
        "import matplotlib\n",
        "import random"
      ],
      "metadata": {
        "id": "pjA5LfM3gANF"
      },
      "execution_count": 1,
      "outputs": []
    },
    {
      "cell_type": "code",
      "execution_count": 2,
      "metadata": {
        "id": "F3YYhJObloTn",
        "outputId": "3528da98-57ef-41bd-f5a2-3ad142847a34",
        "colab": {
          "base_uri": "https://localhost:8080/"
        }
      },
      "outputs": [
        {
          "output_type": "stream",
          "name": "stdout",
          "text": [
            "Mounted at /content/drive\n"
          ]
        }
      ],
      "source": [
        "from google.colab import drive\n",
        "drive.mount('/content/drive')"
      ]
    },
    {
      "cell_type": "code",
      "source": [
        "# añade el path a tu directorio\n",
        "%cd /content/drive/My Drive/tfm/dataset/IXI-T1"
      ],
      "metadata": {
        "id": "sHWKWOAwnFWd",
        "outputId": "32a7d9ec-a214-4703-d61c-ede532a78665",
        "colab": {
          "base_uri": "https://localhost:8080/"
        }
      },
      "execution_count": 3,
      "outputs": [
        {
          "output_type": "stream",
          "name": "stdout",
          "text": [
            "/content/drive/.shortcut-targets-by-id/1yKlrvb9Cp3amASiDUettfP3V1KJuzGDe/tfm/dataset/IXI-T1\n"
          ]
        }
      ]
    },
    {
      "cell_type": "code",
      "source": [
        "import glob\n",
        "import nibabel as nib #reading MR images\n",
        "\n",
        "from matplotlib import pyplot as plt\n",
        "%matplotlib inline"
      ],
      "metadata": {
        "id": "Z-JISVcbnX9c"
      },
      "execution_count": 4,
      "outputs": []
    },
    {
      "cell_type": "code",
      "source": [
        "def save_slices(filename :str, images :list):\n",
        "  \"\"\"\n",
        "  Saves the slices given as an array on 3 different directories after being\n",
        "  randomly shuffled to avoid overfitting.\n",
        "  The 3 directoires at drive will be 'training', 'test', 'validation'\n",
        "  Arguments:\n",
        "    images: array with MRI brain slices\n",
        "  \"\"\"\n",
        "  # Shuffle images to be stored randomly on training, validation and test dirs\n",
        "  random.shuffle(images)\n",
        "\n",
        "  total = len(images)\n",
        "  print(total)\n",
        "  for i, image in enumerate(images):\n",
        "    name = filename + str(i) + '.png'\n",
        "    if (i > 0.8 * total):\n",
        "      name = 'images/test/' + name\n",
        "    elif (i > 0.6 * total):\n",
        "      name = 'images/validation/' + name\n",
        "    else:\n",
        "      name = 'images/training/' + name\n",
        "    \n",
        "    print(\"Saving file \" + name)\n",
        "    matplotlib.image.imsave(name, image, cmap='gray')\n",
        "\n",
        "def load_slices(file :str) -> any:\n",
        "  a = nib.load(file)\n",
        "  a = a.get_fdata()\n",
        "  a = a[:,80:100,:]\n",
        "  return a\n",
        "\n",
        "def extract_slices(file_list :list) -> np.ndarray:\n",
        "  \"\"\" \n",
        "  It extracts the slices of the MRI images stored in the given files \n",
        "  Arguments:\n",
        "      ff: list of nifti files\n",
        "  Returns:\n",
        "      An array with the selected slices from the different files  \n",
        "  \"\"\"\n",
        "  \n",
        "  for f in range(len(file_list)):\n",
        "    filename = os.path.basename(file_list[f])\n",
        "    images = []\n",
        "    a = load_slices('./IXI-T1/' + filename)\n",
        "    for i in range(a.shape[1]):\n",
        "      images.append((a[:,i,:]))\n",
        "    save_slices(filename, images)\n",
        "  return images\n",
        "\n",
        "try:\n",
        "  os.mkdir('/content/drive/My Drive/tfm/dataset/images/training', mode=644)\n",
        "  os.mkdir('/content/drive/My Drive/tfm/dataset/images/validation', mode=644)\n",
        "  os.mkdir('/content/drive/My Drive/tfm/dataset/images/test', mode=644)\n",
        "except:\n",
        "  print('directories already exist')\n",
        "\n",
        "# Make sure we are at the expected directory\n",
        "%cd /content/drive/My Drive/tfm/dataset/\n",
        "\n",
        "ff = glob.glob('./IXI-T1/*.nii.gz')\n",
        "\n",
        "# Extract slices from files\n",
        "images = extract_slices(ff)\n",
        "\n",
        "image = images[1]\n",
        "\n",
        "print (image.shape)"
      ],
      "metadata": {
        "id": "bgJmHfdQoHuK",
        "outputId": "5ba9c9a9-2828-4887-9fc4-cb9aacd29f5b",
        "colab": {
          "base_uri": "https://localhost:8080/"
        }
      },
      "execution_count": null,
      "outputs": [
        {
          "output_type": "stream",
          "name": "stdout",
          "text": [
            "directories already exist\n",
            "/content/drive/.shortcut-targets-by-id/1yKlrvb9Cp3amASiDUettfP3V1KJuzGDe/tfm/dataset\n",
            "20\n",
            "Saving file images/training/IXI023-Guys-0699-T1.nii.gz0.png\n",
            "Saving file images/training/IXI023-Guys-0699-T1.nii.gz1.png\n",
            "Saving file images/training/IXI023-Guys-0699-T1.nii.gz2.png\n",
            "Saving file images/training/IXI023-Guys-0699-T1.nii.gz3.png\n",
            "Saving file images/training/IXI023-Guys-0699-T1.nii.gz4.png\n",
            "Saving file images/training/IXI023-Guys-0699-T1.nii.gz5.png\n",
            "Saving file images/training/IXI023-Guys-0699-T1.nii.gz6.png\n",
            "Saving file images/training/IXI023-Guys-0699-T1.nii.gz7.png\n",
            "Saving file images/training/IXI023-Guys-0699-T1.nii.gz8.png\n",
            "Saving file images/training/IXI023-Guys-0699-T1.nii.gz9.png\n",
            "Saving file images/training/IXI023-Guys-0699-T1.nii.gz10.png\n",
            "Saving file images/training/IXI023-Guys-0699-T1.nii.gz11.png\n",
            "Saving file images/training/IXI023-Guys-0699-T1.nii.gz12.png\n",
            "Saving file images/validation/IXI023-Guys-0699-T1.nii.gz13.png\n",
            "Saving file images/validation/IXI023-Guys-0699-T1.nii.gz14.png\n",
            "Saving file images/validation/IXI023-Guys-0699-T1.nii.gz15.png\n",
            "Saving file images/validation/IXI023-Guys-0699-T1.nii.gz16.png\n",
            "Saving file images/test/IXI023-Guys-0699-T1.nii.gz17.png\n",
            "Saving file images/test/IXI023-Guys-0699-T1.nii.gz18.png\n",
            "Saving file images/test/IXI023-Guys-0699-T1.nii.gz19.png\n",
            "20\n",
            "Saving file images/training/IXI024-Guys-0705-T1.nii.gz0.png\n",
            "Saving file images/training/IXI024-Guys-0705-T1.nii.gz1.png\n",
            "Saving file images/training/IXI024-Guys-0705-T1.nii.gz2.png\n",
            "Saving file images/training/IXI024-Guys-0705-T1.nii.gz3.png\n",
            "Saving file images/training/IXI024-Guys-0705-T1.nii.gz4.png\n",
            "Saving file images/training/IXI024-Guys-0705-T1.nii.gz5.png\n",
            "Saving file images/training/IXI024-Guys-0705-T1.nii.gz6.png\n",
            "Saving file images/training/IXI024-Guys-0705-T1.nii.gz7.png\n",
            "Saving file images/training/IXI024-Guys-0705-T1.nii.gz8.png\n",
            "Saving file images/training/IXI024-Guys-0705-T1.nii.gz9.png\n",
            "Saving file images/training/IXI024-Guys-0705-T1.nii.gz10.png\n",
            "Saving file images/training/IXI024-Guys-0705-T1.nii.gz11.png\n",
            "Saving file images/training/IXI024-Guys-0705-T1.nii.gz12.png\n",
            "Saving file images/validation/IXI024-Guys-0705-T1.nii.gz13.png\n",
            "Saving file images/validation/IXI024-Guys-0705-T1.nii.gz14.png\n",
            "Saving file images/validation/IXI024-Guys-0705-T1.nii.gz15.png\n",
            "Saving file images/validation/IXI024-Guys-0705-T1.nii.gz16.png\n",
            "Saving file images/test/IXI024-Guys-0705-T1.nii.gz17.png\n",
            "Saving file images/test/IXI024-Guys-0705-T1.nii.gz18.png\n",
            "Saving file images/test/IXI024-Guys-0705-T1.nii.gz19.png\n",
            "20\n",
            "Saving file images/training/IXI025-Guys-0852-T1.nii.gz0.png\n",
            "Saving file images/training/IXI025-Guys-0852-T1.nii.gz1.png\n",
            "Saving file images/training/IXI025-Guys-0852-T1.nii.gz2.png\n",
            "Saving file images/training/IXI025-Guys-0852-T1.nii.gz3.png\n",
            "Saving file images/training/IXI025-Guys-0852-T1.nii.gz4.png\n",
            "Saving file images/training/IXI025-Guys-0852-T1.nii.gz5.png\n",
            "Saving file images/training/IXI025-Guys-0852-T1.nii.gz6.png\n",
            "Saving file images/training/IXI025-Guys-0852-T1.nii.gz7.png\n",
            "Saving file images/training/IXI025-Guys-0852-T1.nii.gz8.png\n",
            "Saving file images/training/IXI025-Guys-0852-T1.nii.gz9.png\n",
            "Saving file images/training/IXI025-Guys-0852-T1.nii.gz10.png\n",
            "Saving file images/training/IXI025-Guys-0852-T1.nii.gz11.png\n",
            "Saving file images/training/IXI025-Guys-0852-T1.nii.gz12.png\n",
            "Saving file images/validation/IXI025-Guys-0852-T1.nii.gz13.png\n",
            "Saving file images/validation/IXI025-Guys-0852-T1.nii.gz14.png\n",
            "Saving file images/validation/IXI025-Guys-0852-T1.nii.gz15.png\n",
            "Saving file images/validation/IXI025-Guys-0852-T1.nii.gz16.png\n",
            "Saving file images/test/IXI025-Guys-0852-T1.nii.gz17.png\n",
            "Saving file images/test/IXI025-Guys-0852-T1.nii.gz18.png\n",
            "Saving file images/test/IXI025-Guys-0852-T1.nii.gz19.png\n",
            "20\n",
            "Saving file images/training/IXI002-Guys-0828-T1.nii.gz0.png\n",
            "Saving file images/training/IXI002-Guys-0828-T1.nii.gz1.png\n",
            "Saving file images/training/IXI002-Guys-0828-T1.nii.gz2.png\n",
            "Saving file images/training/IXI002-Guys-0828-T1.nii.gz3.png\n",
            "Saving file images/training/IXI002-Guys-0828-T1.nii.gz4.png\n",
            "Saving file images/training/IXI002-Guys-0828-T1.nii.gz5.png\n",
            "Saving file images/training/IXI002-Guys-0828-T1.nii.gz6.png\n",
            "Saving file images/training/IXI002-Guys-0828-T1.nii.gz7.png\n",
            "Saving file images/training/IXI002-Guys-0828-T1.nii.gz8.png\n",
            "Saving file images/training/IXI002-Guys-0828-T1.nii.gz9.png\n",
            "Saving file images/training/IXI002-Guys-0828-T1.nii.gz10.png\n",
            "Saving file images/training/IXI002-Guys-0828-T1.nii.gz11.png\n",
            "Saving file images/training/IXI002-Guys-0828-T1.nii.gz12.png\n",
            "Saving file images/validation/IXI002-Guys-0828-T1.nii.gz13.png\n",
            "Saving file images/validation/IXI002-Guys-0828-T1.nii.gz14.png\n",
            "Saving file images/validation/IXI002-Guys-0828-T1.nii.gz15.png\n",
            "Saving file images/validation/IXI002-Guys-0828-T1.nii.gz16.png\n",
            "Saving file images/test/IXI002-Guys-0828-T1.nii.gz17.png\n",
            "Saving file images/test/IXI002-Guys-0828-T1.nii.gz18.png\n",
            "Saving file images/test/IXI002-Guys-0828-T1.nii.gz19.png\n",
            "20\n",
            "Saving file images/training/IXI016-Guys-0697-T1.nii.gz0.png\n",
            "Saving file images/training/IXI016-Guys-0697-T1.nii.gz1.png\n",
            "Saving file images/training/IXI016-Guys-0697-T1.nii.gz2.png\n",
            "Saving file images/training/IXI016-Guys-0697-T1.nii.gz3.png\n",
            "Saving file images/training/IXI016-Guys-0697-T1.nii.gz4.png\n",
            "Saving file images/training/IXI016-Guys-0697-T1.nii.gz5.png\n",
            "Saving file images/training/IXI016-Guys-0697-T1.nii.gz6.png\n",
            "Saving file images/training/IXI016-Guys-0697-T1.nii.gz7.png\n",
            "Saving file images/training/IXI016-Guys-0697-T1.nii.gz8.png\n",
            "Saving file images/training/IXI016-Guys-0697-T1.nii.gz9.png\n",
            "Saving file images/training/IXI016-Guys-0697-T1.nii.gz10.png\n",
            "Saving file images/training/IXI016-Guys-0697-T1.nii.gz11.png\n",
            "Saving file images/training/IXI016-Guys-0697-T1.nii.gz12.png\n",
            "Saving file images/validation/IXI016-Guys-0697-T1.nii.gz13.png\n",
            "Saving file images/validation/IXI016-Guys-0697-T1.nii.gz14.png\n",
            "Saving file images/validation/IXI016-Guys-0697-T1.nii.gz15.png\n",
            "Saving file images/validation/IXI016-Guys-0697-T1.nii.gz16.png\n",
            "Saving file images/test/IXI016-Guys-0697-T1.nii.gz17.png\n",
            "Saving file images/test/IXI016-Guys-0697-T1.nii.gz18.png\n",
            "Saving file images/test/IXI016-Guys-0697-T1.nii.gz19.png\n"
          ]
        }
      ]
    },
    {
      "cell_type": "code",
      "source": [
        "print(len(images))\n",
        "print(images[1].shape)\n",
        "print(type(image))"
      ],
      "metadata": {
        "id": "BKfoyAco83Zi"
      },
      "execution_count": null,
      "outputs": []
    },
    {
      "cell_type": "code",
      "source": [
        "print(image[100,50])"
      ],
      "metadata": {
        "id": "OMCQEjYzH-aL"
      },
      "execution_count": null,
      "outputs": []
    },
    {
      "cell_type": "code",
      "source": [
        "plt.figure(figsize=[5,5])\n",
        "\n",
        "# Display the first image in training data\n",
        "plt.subplot(121)\n",
        "#img = image[:,:,100]\n",
        "plt.imshow(image, cmap='gray')\n",
        "\n"
      ],
      "metadata": {
        "id": "yYiBwpX_pT_w"
      },
      "execution_count": null,
      "outputs": []
    },
    {
      "cell_type": "code",
      "source": [
        "f, big_axes = plt.subplots(15,10, figsize=(25,25))\n",
        "\n",
        "for i in range(0,15):\n",
        "  for j in range(0,10):\n",
        "    slice_position = ((i - 1) * 10) + j\n",
        "    big_axes[i,j].imshow(image[:,:,slice_position], cmap='gray')\n",
        "\n",
        "\n"
      ],
      "metadata": {
        "id": "fJ9oEcU_p9IU"
      },
      "execution_count": null,
      "outputs": []
    }
  ]
}