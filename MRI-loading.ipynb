{
  "nbformat": 4,
  "nbformat_minor": 0,
  "metadata": {
    "colab": {
      "name": "Untitled1.ipynb",
      "provenance": [],
      "authorship_tag": "ABX9TyMyjV6ZmyhS/IjLlSRulRVb",
      "include_colab_link": true
    },
    "kernelspec": {
      "name": "python3",
      "display_name": "Python 3"
    },
    "language_info": {
      "name": "python"
    },
    "accelerator": "GPU",
    "gpuClass": "standard"
  },
  "cells": [
    {
      "cell_type": "markdown",
      "metadata": {
        "id": "view-in-github",
        "colab_type": "text"
      },
      "source": [
        "<a href=\"https://colab.research.google.com/github/mtablado/uoc2022_tfm/blob/main/MRI-loading.ipynb\" target=\"_parent\"><img src=\"https://colab.research.google.com/assets/colab-badge.svg\" alt=\"Open In Colab\"/></a>"
      ]
    },
    {
      "cell_type": "code",
      "source": [
        "import tensorflow as tf\n",
        "from tensorflow import keras\n",
        "from tensorflow.keras import layers\n",
        "from tensorflow.keras import backend as K\n",
        "from tensorflow.keras.models import Model\n",
        "from tensorflow.keras.optimizers import Adam, SGD, Adadelta, Adagrad\n",
        "import numpy as np\n",
        "import math"
      ],
      "metadata": {
        "id": "pjA5LfM3gANF"
      },
      "execution_count": 13,
      "outputs": []
    },
    {
      "cell_type": "code",
      "execution_count": 14,
      "metadata": {
        "id": "F3YYhJObloTn",
        "outputId": "2424b494-ed87-4114-8d2d-c317974c1cf2",
        "colab": {
          "base_uri": "https://localhost:8080/"
        }
      },
      "outputs": [
        {
          "output_type": "stream",
          "name": "stdout",
          "text": [
            "Mounted at /content/drive\n"
          ]
        }
      ],
      "source": [
        "from google.colab import drive\n",
        "drive.mount('/content/drive')"
      ]
    },
    {
      "cell_type": "code",
      "source": [
        "# añade el path a tu directorio\n",
        "%cd /content/drive/My Drive/tfm/dataset/IXI-T1"
      ],
      "metadata": {
        "id": "sHWKWOAwnFWd",
        "outputId": "2aa449aa-f1a6-4b32-af33-14ed1198fa72",
        "colab": {
          "base_uri": "https://localhost:8080/"
        }
      },
      "execution_count": 15,
      "outputs": [
        {
          "output_type": "stream",
          "name": "stdout",
          "text": [
            "/content/drive/My Drive/tfm/dataset/IXI-T1\n"
          ]
        }
      ]
    },
    {
      "cell_type": "code",
      "source": [
        "import glob\n",
        "import nibabel as nib #reading MR images\n",
        "\n",
        "from matplotlib import pyplot as plt\n",
        "%matplotlib inline"
      ],
      "metadata": {
        "id": "Z-JISVcbnX9c"
      },
      "execution_count": 16,
      "outputs": []
    },
    {
      "cell_type": "code",
      "source": [
        "ff = glob.glob('./*')\n",
        "ff[0]"
      ],
      "metadata": {
        "id": "6UAr1GaOnhSu",
        "outputId": "db508e61-afa3-48e5-c778-46fe3f7a8698",
        "colab": {
          "base_uri": "https://localhost:8080/",
          "height": 35
        }
      },
      "execution_count": 17,
      "outputs": [
        {
          "output_type": "execute_result",
          "data": {
            "text/plain": [
              "'./IXI023-Guys-0699-T1.nii.gz'"
            ],
            "application/vnd.google.colaboratory.intrinsic+json": {
              "type": "string"
            }
          },
          "metadata": {},
          "execution_count": 17
        }
      ]
    },
    {
      "cell_type": "code",
      "source": [
        "len(ff[0])"
      ],
      "metadata": {
        "id": "MZabB29QnuFb",
        "outputId": "257850c0-b3dc-4ced-bc76-1bfa7bebb076",
        "colab": {
          "base_uri": "https://localhost:8080/"
        }
      },
      "execution_count": 18,
      "outputs": [
        {
          "output_type": "execute_result",
          "data": {
            "text/plain": [
              "28"
            ]
          },
          "metadata": {},
          "execution_count": 18
        }
      ]
    },
    {
      "cell_type": "code",
      "source": [
        "def extract_slices(ff):\n",
        "  images = []\n",
        "  #for f in range(len(ff)):\n",
        "  files = (0, 1)\n",
        "  for f in files:\n",
        "    print(ff[f])\n",
        "    a = nib.load(ff[f])\n",
        "    a = a.get_fdata()\n",
        "    a = a[:,78:129,:]\n",
        "    for i in range(a.shape[1]):\n",
        "      images.append((a[:,i,:]))\n",
        "  return images\n",
        "\n",
        "  \n",
        "images = extract_slices(ff)\n",
        "image = images[1]\n",
        "\n",
        "#image = nib.load(ff[0])\n",
        "#image = image.get_fdata()\n",
        "\n",
        "print (image.shape)"
      ],
      "metadata": {
        "id": "bgJmHfdQoHuK",
        "outputId": "9b0678a9-e9a2-4276-e3c0-5866f29e9e4c",
        "colab": {
          "base_uri": "https://localhost:8080/"
        }
      },
      "execution_count": 19,
      "outputs": [
        {
          "output_type": "stream",
          "name": "stdout",
          "text": [
            "./IXI023-Guys-0699-T1.nii.gz\n",
            "./IXI024-Guys-0705-T1.nii.gz\n",
            "(256, 130)\n"
          ]
        }
      ]
    },
    {
      "cell_type": "code",
      "source": [
        "print(len(images))\n",
        "print(images[1].shape)\n",
        "print(type(image))"
      ],
      "metadata": {
        "id": "BKfoyAco83Zi",
        "outputId": "64301f17-157e-41a1-95a2-0683cf0c96dc",
        "colab": {
          "base_uri": "https://localhost:8080/"
        }
      },
      "execution_count": 20,
      "outputs": [
        {
          "output_type": "stream",
          "name": "stdout",
          "text": [
            "102\n",
            "(256, 130)\n",
            "<class 'numpy.ndarray'>\n"
          ]
        }
      ]
    },
    {
      "cell_type": "code",
      "source": [
        "print(image[100,50])"
      ],
      "metadata": {
        "id": "OMCQEjYzH-aL",
        "outputId": "5c1e4e52-3969-47ed-84fc-76573819bec6",
        "colab": {
          "base_uri": "https://localhost:8080/"
        }
      },
      "execution_count": 21,
      "outputs": [
        {
          "output_type": "stream",
          "name": "stdout",
          "text": [
            "806.2262964248657\n"
          ]
        }
      ]
    },
    {
      "cell_type": "code",
      "source": [
        "plt.figure(figsize=[5,5])\n",
        "\n",
        "# Display the first image in training data\n",
        "plt.subplot(121)\n",
        "#img = image[:,:,100]\n",
        "plt.imshow(image, cmap='gray')\n",
        "\n"
      ],
      "metadata": {
        "id": "yYiBwpX_pT_w",
        "outputId": "fcb8777e-f953-4811-991f-be3e60e3e350",
        "colab": {
          "base_uri": "https://localhost:8080/",
          "height": 318
        }
      },
      "execution_count": 22,
      "outputs": [
        {
          "output_type": "execute_result",
          "data": {
            "text/plain": [
              "<matplotlib.image.AxesImage at 0x7fecf7056f40>"
            ]
          },
          "metadata": {},
          "execution_count": 22
        },
        {
          "output_type": "display_data",
          "data": {
            "text/plain": [
              "<Figure size 360x360 with 1 Axes>"
            ],
            "image/png": "[encoded data removed]"
          },
          "metadata": {
            "needs_background": "light"
          }
        }
      ]
    },
    {
      "cell_type": "code",
      "source": [
        "import matplotlib\n",
        "import random\n",
        "\n",
        "def save_slices(images):\n",
        "  # Shuffle images to be stored randomly on training, validation and test dirs\n",
        "  random.shuffle(images)\n",
        "\n",
        "  total = len(images)\n",
        "  print(total)\n",
        "  for i, image in enumerate(images):\n",
        "    name = str(i) + '.png'\n",
        "    if (i > 0.8 * total):\n",
        "      name = 'test/' + name\n",
        "    elif (i > 0.6 * total):\n",
        "      name = 'validation/' + name\n",
        "    else:\n",
        "      name = 'training/' + name\n",
        "    \n",
        "    matplotlib.image.imsave(name, image, cmap='gray')\n",
        "\n",
        "# añade el path a tu directorio\n",
        "%cd /content/drive/My Drive/tfm/dataset/images\n",
        "try:\n",
        "  os.mkdir('/content/drive/My Drive/tfm/dataset/images/training', mode=644)\n",
        "  os.mkdir('/content/drive/My Drive/tfm/dataset/images/validation', mode=644)\n",
        "  os.mkdir('/content/drive/My Drive/tfm/dataset/images/test', mode=644)\n",
        "except:\n",
        "  print('directories already exist')\n",
        "save_slices(images)"
      ],
      "metadata": {
        "id": "ZUgMm5cSJIAI",
        "outputId": "c1bc6284-cf42-4210-ad8e-0240ebe9b2b0",
        "colab": {
          "base_uri": "https://localhost:8080/"
        }
      },
      "execution_count": 43,
      "outputs": [
        {
          "output_type": "stream",
          "name": "stdout",
          "text": [
            "/content/drive/My Drive/tfm/dataset/images\n",
            "directories already exist\n",
            "102\n"
          ]
        }
      ]
    },
    {
      "cell_type": "code",
      "source": [
        "def encoder():\n",
        "\n",
        "  img_shape = (256, 256, 3)\n",
        "  batch_size = 16\n",
        "  # Dimensionality of the latent space: a 2D plane\n",
        "  latent_dim = 2\n",
        "\n",
        "  input_img = keras.Input(shape=img_shape)\n",
        "\n",
        "  x = layers.Conv2D(32, 3,\n",
        "                    padding='same', activation='relu')(input_img)\n",
        "  x = layers.Conv2D(64, 3,\n",
        "                    padding='same', activation='relu',\n",
        "                    strides=(2, 2))(x)\n",
        "  x = layers.Conv2D(64, 3,\n",
        "                    padding='same', activation='relu')(x)\n",
        "  x = layers.Conv2D(64, 3,\n",
        "                    padding='same', activation='relu')(x)\n",
        "  shape_before_flattening = K.int_shape(x)\n",
        "\n",
        "  x = layers.Flatten()(x)\n",
        "  x = layers.Dense(32, activation='relu')(x)\n",
        "\n",
        "  # The input image ends up being encoded into these two parameters.\n",
        "  z_mean = layers.Dense(latent_dim)(x)\n",
        "  z_log_var = layers.Dense(latent_dim)(x)\n",
        "  return input_img, shape_before_flattening, z_mean, z_log_var"
      ],
      "metadata": {
        "id": "hHzHOw8rfwGd"
      },
      "execution_count": 24,
      "outputs": []
    },
    {
      "cell_type": "code",
      "source": [
        "def decoder(shape_before_flattening, z):\n",
        "  # Input where you’ll feed z\n",
        "  decoder_input = layers.Input(K.int_shape(z)[1:])\n",
        "\n",
        "  # Upsamples the input\n",
        "  x = layers.Dense(np.prod(shape_before_flattening[1:]),\n",
        "                  activation='relu')(decoder_input)\n",
        "\n",
        "  # Reshapes z into a feature map of the same shape as the feature map \n",
        "  # just before the last Flatten layer in the encoder model\n",
        "  x = layers.Reshape(shape_before_flattening[1:])(x)\n",
        "\n",
        "  # Uses a Conv2DTranspose layer and Conv2D layer to decode z \n",
        "  # into a feature map the same size as the original image input\n",
        "  x = layers.Conv2DTranspose(32, 3,\n",
        "                            padding='same',\n",
        "                            activation='relu',\n",
        "                            strides=(2, 2))(x)\n",
        "  x = layers.Conv2D(1, 3,\n",
        "                    padding='same',\n",
        "                    activation='sigmoid')(x)\n",
        "\n",
        "  # Instantiates the decoder model, which turns “decoder_input” into the decoded image\n",
        "  decoder = Model(decoder_input, x)\n",
        "\n",
        "  # Applies it to z to recover the decoded z\n",
        "  z_decoded = decoder(z)\n",
        "  return z_decoded\n",
        "\n"
      ],
      "metadata": {
        "id": "6TKQ45FFgyAi"
      },
      "execution_count": 25,
      "outputs": []
    },
    {
      "cell_type": "code",
      "source": [
        "# Encodes the input into a mean and variance parameter\n",
        "input_img, shape_before_flattening, z_mean, z_log_variance = encoder()\n",
        "\n",
        "# Create a random tensor of small values\n",
        "epsilon_shape =(1, 2)\n",
        "epsilon = tf.random.uniform(epsilon_shape, minval=0, maxval=0.1, seed=32)\n",
        "\n",
        "x = tf.keras.backend.exp(z_log_variance)\n",
        "\n",
        "# Draws a latent point using a small random epsilon\n",
        "z = z_mean + x * epsilon\n",
        "\n",
        "# Decodes z back to an image\n",
        "reconstructed_img = decoder(shape_before_flattening, z)\n",
        "\n",
        "#plt.imshow(reconstructed_img, cmap='gray')\n",
        "\n",
        "# Instantiates the autoencoder model, which maps an input image to its reconstruction\n",
        "model = Model(input_img, reconstructed_img)\n",
        "model.summary()\n"
      ],
      "metadata": {
        "id": "3QU5je75gJTq",
        "outputId": "51fad451-7253-4464-eb6f-70c082723130",
        "colab": {
          "base_uri": "https://localhost:8080/"
        }
      },
      "execution_count": 26,
      "outputs": [
        {
          "output_type": "stream",
          "name": "stdout",
          "text": [
            "Model: \"model_1\"\n",
            "__________________________________________________________________________________________________\n",
            " Layer (type)                   Output Shape         Param #     Connected to                     \n",
            "==================================================================================================\n",
            " input_1 (InputLayer)           [(None, 256, 256, 3  0           []                               \n",
            "                                )]                                                                \n",
            "                                                                                                  \n",
            " conv2d (Conv2D)                (None, 256, 256, 32  896         ['input_1[0][0]']                \n",
            "                                )                                                                 \n",
            "                                                                                                  \n",
            " conv2d_1 (Conv2D)              (None, 128, 128, 64  18496       ['conv2d[0][0]']                 \n",
            "                                )                                                                 \n",
            "                                                                                                  \n",
            " conv2d_2 (Conv2D)              (None, 128, 128, 64  36928       ['conv2d_1[0][0]']               \n",
            "                                )                                                                 \n",
            "                                                                                                  \n",
            " conv2d_3 (Conv2D)              (None, 128, 128, 64  36928       ['conv2d_2[0][0]']               \n",
            "                                )                                                                 \n",
            "                                                                                                  \n",
            " flatten (Flatten)              (None, 1048576)      0           ['conv2d_3[0][0]']               \n",
            "                                                                                                  \n",
            " dense (Dense)                  (None, 32)           33554464    ['flatten[0][0]']                \n",
            "                                                                                                  \n",
            " dense_2 (Dense)                (None, 2)            66          ['dense[0][0]']                  \n",
            "                                                                                                  \n",
            " tf.math.exp (TFOpLambda)       (None, 2)            0           ['dense_2[0][0]']                \n",
            "                                                                                                  \n",
            " dense_1 (Dense)                (None, 2)            66          ['dense[0][0]']                  \n",
            "                                                                                                  \n",
            " tf.math.multiply (TFOpLambda)  (None, 2)            0           ['tf.math.exp[0][0]']            \n",
            "                                                                                                  \n",
            " tf.__operators__.add (TFOpLamb  (None, 2)           0           ['dense_1[0][0]',                \n",
            " da)                                                              'tf.math.multiply[0][0]']       \n",
            "                                                                                                  \n",
            " model (Functional)             (None, 256, 256, 1)  3164481     ['tf.__operators__.add[0][0]']   \n",
            "                                                                                                  \n",
            "==================================================================================================\n",
            "Total params: 36,812,325\n",
            "Trainable params: 36,812,325\n",
            "Non-trainable params: 0\n",
            "__________________________________________________________________________________________________\n"
          ]
        }
      ]
    },
    {
      "cell_type": "code",
      "source": [
        "def ELBOloss(y_true, y_pred):\n",
        "  # The reconstruction loss measures how close the decoder output is to the original input by using the mean-squared error (MSE)\n",
        "  reconstruction_loss = keras.metrics.mean_squared_error(y_true, y_pred)\n",
        "\n",
        "  # The KL loss, or Kullback–Leibler divergence, measures the difference between two probability distributions. Minimizing the KL loss in this case means ensuring that the learned means and variances are as close as possible to those of the target (normal) distribution. For a latent dimension of size K\n",
        "  kl = tf.keras.losses.KLDivergence()\n",
        "  kl_loss = kl(y_true, y_pred).numpy()\n",
        "\n",
        "  # Combined loss\n",
        "  return reconstruction_loss + kl_loss\n",
        "\n"
      ],
      "metadata": {
        "id": "2AAnFoPwyQgy"
      },
      "execution_count": 27,
      "outputs": []
    },
    {
      "cell_type": "code",
      "source": [
        "import os\n",
        "%cd /content/drive/My\\ Drive/tfm/dataset/images/\n",
        "\n",
        "path = os.path.curdir\n",
        "training_path = os.path.join(path, 'training')\n",
        "\n",
        "print(training_path)\n",
        "vaidation_path = os.path.join(path, 'validation')\n",
        "test_path = os.path.join(path, 'test')\n",
        "\n",
        "train_ds = keras.preprocessing.image_dataset_from_directory(\n",
        "    training_path)\n",
        "valid_ds = keras.preprocessing.image_dataset_from_directory(\n",
        "    vaidation_path,\n",
        "    labels=None)\n",
        "test_ds = keras.preprocessing.image_dataset_from_directory(\n",
        "    test_path,\n",
        "    labels=None)"
      ],
      "metadata": {
        "id": "Z2WGNotyuWGj",
        "outputId": "318cd004-4852-444a-d5fe-4f5442cc780f",
        "colab": {
          "base_uri": "https://localhost:8080/"
        }
      },
      "execution_count": 28,
      "outputs": [
        {
          "output_type": "stream",
          "name": "stdout",
          "text": [
            "/content/drive/My Drive/tfm/dataset/images\n",
            "./training\n",
            "Found 62 files belonging to 1 classes.\n",
            "Found 40 files belonging to 1 classes.\n",
            "Found 40 files belonging to 1 classes.\n"
          ]
        }
      ]
    },
    {
      "cell_type": "code",
      "source": [
        "class Sampling(layers.Layer):\n",
        "    \"\"\"Uses (z_mean, z_log_var) to sample z, the vector encoding a digit.\"\"\"\n",
        "\n",
        "    def call(self, inputs):\n",
        "        z_mean, z_log_var = inputs\n",
        "        batch = tf.shape(z_mean)[0]\n",
        "        dim = tf.shape(z_mean)[1]\n",
        "        epsilon = tf.keras.backend.random_normal(shape=(batch, dim))\n",
        "        return z_mean + tf.exp(0.5 * z_log_var) * epsilon\n"
      ],
      "metadata": {
        "id": "mrwqHeEI5_Fn"
      },
      "execution_count": 29,
      "outputs": []
    },
    {
      "cell_type": "code",
      "source": [
        "def vae_encoder():\n",
        "  latent_dim = 2\n",
        "\n",
        "  encoder_inputs = keras.Input(shape=(256, 256, 1))\n",
        "  x = layers.Conv2D(32, 3, activation=\"relu\", strides=2, padding=\"same\")(encoder_inputs)\n",
        "  x = layers.Conv2D(64, 3, activation=\"relu\", strides=2, padding=\"same\")(x)\n",
        "  x = layers.Flatten()(x)\n",
        "  x = layers.Dense(16, activation=\"relu\")(x)\n",
        "  z_mean = layers.Dense(latent_dim, name=\"z_mean\")(x)\n",
        "  z_log_var = layers.Dense(latent_dim, name=\"z_log_var\")(x)\n",
        "  z = Sampling()([z_mean, z_log_var])\n",
        "  encoder = keras.Model(encoder_inputs, [z_mean, z_log_var, z], name=\"encoder\")\n",
        "  encoder.summary()\n",
        "  return encoder\n",
        "\n",
        "my_encoder = vae_encoder()"
      ],
      "metadata": {
        "id": "iHZ5tqk_5tUC",
        "outputId": "8f199ab1-00d9-452f-c934-353416991447",
        "colab": {
          "base_uri": "https://localhost:8080/"
        }
      },
      "execution_count": 44,
      "outputs": [
        {
          "output_type": "stream",
          "name": "stdout",
          "text": [
            "Model: \"encoder\"\n",
            "__________________________________________________________________________________________________\n",
            " Layer (type)                   Output Shape         Param #     Connected to                     \n",
            "==================================================================================================\n",
            " input_7 (InputLayer)           [(None, 256, 256, 1  0           []                               \n",
            "                                )]                                                                \n",
            "                                                                                                  \n",
            " conv2d_7 (Conv2D)              (None, 128, 128, 32  320         ['input_7[0][0]']                \n",
            "                                )                                                                 \n",
            "                                                                                                  \n",
            " conv2d_8 (Conv2D)              (None, 64, 64, 64)   18496       ['conv2d_7[0][0]']               \n",
            "                                                                                                  \n",
            " flatten_2 (Flatten)            (None, 262144)       0           ['conv2d_8[0][0]']               \n",
            "                                                                                                  \n",
            " dense_8 (Dense)                (None, 16)           4194320     ['flatten_2[0][0]']              \n",
            "                                                                                                  \n",
            " z_mean (Dense)                 (None, 2)            34          ['dense_8[0][0]']                \n",
            "                                                                                                  \n",
            " z_log_var (Dense)              (None, 2)            34          ['dense_8[0][0]']                \n",
            "                                                                                                  \n",
            " sampling_1 (Sampling)          (None, 2)            0           ['z_mean[0][0]',                 \n",
            "                                                                  'z_log_var[0][0]']              \n",
            "                                                                                                  \n",
            "==================================================================================================\n",
            "Total params: 4,213,204\n",
            "Trainable params: 4,213,204\n",
            "Non-trainable params: 0\n",
            "__________________________________________________________________________________________________\n"
          ]
        }
      ]
    },
    {
      "cell_type": "code",
      "source": [
        "def vae_decoder():\n",
        "  latent_dim = 2\n",
        "  latent_inputs = keras.Input(shape=(latent_dim,))\n",
        "  x = layers.Dense(64 * 64 * 64, activation=\"relu\")(latent_inputs)\n",
        "  x = layers.Reshape((64, 64, 64))(x)\n",
        "  x = layers.Conv2DTranspose(64, 3, activation=\"relu\", strides=2, padding=\"same\")(x)\n",
        "  x = layers.Conv2DTranspose(32, 3, activation=\"relu\", strides=2, padding=\"same\")(x)\n",
        "  decoder_outputs = layers.Conv2DTranspose(1, 3, activation=\"sigmoid\", padding=\"same\")(x)\n",
        "  decoder = keras.Model(latent_inputs, decoder_outputs, name=\"decoder\")\n",
        "  decoder.summary()\n",
        "  return decoder\n",
        "\n",
        "my_decoder = vae_decoder()"
      ],
      "metadata": {
        "id": "Ye3ME_lz6HAr",
        "outputId": "41e4a367-1467-4673-db2c-5cc331f829b3",
        "colab": {
          "base_uri": "https://localhost:8080/"
        }
      },
      "execution_count": 45,
      "outputs": [
        {
          "output_type": "stream",
          "name": "stdout",
          "text": [
            "Model: \"decoder\"\n",
            "_________________________________________________________________\n",
            " Layer (type)                Output Shape              Param #   \n",
            "=================================================================\n",
            " input_8 (InputLayer)        [(None, 2)]               0         \n",
            "                                                                 \n",
            " dense_9 (Dense)             (None, 262144)            786432    \n",
            "                                                                 \n",
            " reshape_4 (Reshape)         (None, 64, 64, 64)        0         \n",
            "                                                                 \n",
            " conv2d_transpose_10 (Conv2D  (None, 128, 128, 64)     36928     \n",
            " Transpose)                                                      \n",
            "                                                                 \n",
            " conv2d_transpose_11 (Conv2D  (None, 256, 256, 32)     18464     \n",
            " Transpose)                                                      \n",
            "                                                                 \n",
            " conv2d_transpose_12 (Conv2D  (None, 256, 256, 1)      289       \n",
            " Transpose)                                                      \n",
            "                                                                 \n",
            "=================================================================\n",
            "Total params: 842,113\n",
            "Trainable params: 842,113\n",
            "Non-trainable params: 0\n",
            "_________________________________________________________________\n"
          ]
        }
      ]
    },
    {
      "cell_type": "code",
      "source": [
        "class VAE(keras.Model):\n",
        "    def __init__(self, encoder, decoder, **kwargs):\n",
        "        super(VAE, self).__init__(**kwargs)\n",
        "        self.encoder = encoder\n",
        "        self.decoder = decoder\n",
        "        self.total_loss_tracker = keras.metrics.Mean(name=\"total_loss\")\n",
        "        self.reconstruction_loss_tracker = keras.metrics.Mean(\n",
        "            name=\"reconstruction_loss\"\n",
        "        )\n",
        "        self.kl_loss_tracker = keras.metrics.Mean(name=\"kl_loss\")\n",
        "\n",
        "    @property\n",
        "    def metrics(self):\n",
        "        return [\n",
        "            self.total_loss_tracker,\n",
        "            self.reconstruction_loss_tracker,\n",
        "            self.kl_loss_tracker,\n",
        "        ]\n",
        "\n",
        "    def train_step(self, data):\n",
        "        with tf.GradientTape() as tape:\n",
        "            z_mean, z_log_var, z = self.encoder(data)\n",
        "            reconstruction = self.decoder(z)\n",
        "            reconstruction_loss = tf.reduce_mean(\n",
        "                tf.reduce_sum(\n",
        "                    keras.losses.binary_crossentropy(data, reconstruction), axis=(1, 2)\n",
        "                )\n",
        "            )\n",
        "            kl_loss = -0.5 * (1 + z_log_var - tf.square(z_mean) - tf.exp(z_log_var))\n",
        "            kl_loss = tf.reduce_mean(tf.reduce_sum(kl_loss, axis=1))\n",
        "            total_loss = reconstruction_loss + kl_loss\n",
        "        grads = tape.gradient(total_loss, self.trainable_weights)\n",
        "        self.optimizer.apply_gradients(zip(grads, self.trainable_weights))\n",
        "        self.total_loss_tracker.update_state(total_loss)\n",
        "        self.reconstruction_loss_tracker.update_state(reconstruction_loss)\n",
        "        self.kl_loss_tracker.update_state(kl_loss)\n",
        "        return {\n",
        "            \"loss\": self.total_loss_tracker.result(),\n",
        "            \"reconstruction_loss\": self.reconstruction_loss_tracker.result(),\n",
        "            \"kl_loss\": self.kl_loss_tracker.result(),\n",
        "        }\n"
      ],
      "metadata": {
        "id": "brFcOF2b4GCb"
      },
      "execution_count": 46,
      "outputs": []
    },
    {
      "cell_type": "code",
      "source": [
        "%cd /content/drive/My Drive/tfm/dataset/images\n",
        "from keras.preprocessing.image import ImageDataGenerator\n",
        "\n",
        "train_datagen = ImageDataGenerator(\n",
        "        rescale=1./255,\n",
        "        shear_range=0.2,\n",
        "        zoom_range=0.2,\n",
        "        horizontal_flip=True)\n",
        "test_datagen = ImageDataGenerator(rescale=1./255)\n",
        "train_generator = train_datagen.flow_from_directory(\n",
        "        'training',\n",
        "        target_size=(150, 150),\n",
        "        batch_size=32,\n",
        "        class_mode=None)\n"
      ],
      "metadata": {
        "id": "w6asEEh7PAeX",
        "outputId": "3accbb5f-2404-418b-d785-6629cbc4876e",
        "colab": {
          "base_uri": "https://localhost:8080/"
        }
      },
      "execution_count": 47,
      "outputs": [
        {
          "output_type": "stream",
          "name": "stdout",
          "text": [
            "/content/drive/My Drive/tfm/dataset/images\n",
            "Found 62 images belonging to 1 classes.\n"
          ]
        }
      ]
    },
    {
      "cell_type": "code",
      "source": [
        "import timeit\n",
        "vae = VAE(my_encoder, my_decoder)\n",
        "vae.compile(\n",
        "    optimizer=keras.optimizers.Adam())\n",
        "\n",
        "# Entrenar el modelo\n",
        "t0 = timeit.default_timer()\n",
        "print(train_ds.class_names)\n",
        "\n",
        "mfit = vae.fit(train_generator, epochs=30, batch_size=62)\n",
        "training_time_ann = timeit.default_timer() - t0"
      ],
      "metadata": {
        "id": "WtFTnUXv4YMT",
        "outputId": "1ccc7d62-4c59-446e-d7a4-292d1b46ba8d",
        "colab": {
          "base_uri": "https://localhost:8080/",
          "height": 1000
        }
      },
      "execution_count": 48,
      "outputs": [
        {
          "output_type": "stream",
          "name": "stdout",
          "text": [
            "['t1']\n",
            "Epoch 1/30\n"
          ]
        },
        {
          "output_type": "error",
          "ename": "UnimplementedError",
          "evalue": "ignored",
          "traceback": [
            "\u001b[0;31m---------------------------------------------------------------------------\u001b[0m",
            "\u001b[0;31mUnimplementedError\u001b[0m                        Traceback (most recent call last)",
            "\u001b[0;32m<ipython-input-48-71b5f8e432f3>\u001b[0m in \u001b[0;36m<module>\u001b[0;34m\u001b[0m\n\u001b[1;32m      8\u001b[0m \u001b[0mprint\u001b[0m\u001b[0;34m(\u001b[0m\u001b[0mtrain_ds\u001b[0m\u001b[0;34m.\u001b[0m\u001b[0mclass_names\u001b[0m\u001b[0;34m)\u001b[0m\u001b[0;34m\u001b[0m\u001b[0;34m\u001b[0m\u001b[0m\n\u001b[1;32m      9\u001b[0m \u001b[0;34m\u001b[0m\u001b[0m\n\u001b[0;32m---> 10\u001b[0;31m \u001b[0mmfit\u001b[0m \u001b[0;34m=\u001b[0m \u001b[0mvae\u001b[0m\u001b[0;34m.\u001b[0m\u001b[0mfit\u001b[0m\u001b[0;34m(\u001b[0m\u001b[0mtrain_generator\u001b[0m\u001b[0;34m,\u001b[0m \u001b[0mepochs\u001b[0m\u001b[0;34m=\u001b[0m\u001b[0;36m30\u001b[0m\u001b[0;34m,\u001b[0m \u001b[0mbatch_size\u001b[0m\u001b[0;34m=\u001b[0m\u001b[0;36m62\u001b[0m\u001b[0;34m)\u001b[0m\u001b[0;34m\u001b[0m\u001b[0;34m\u001b[0m\u001b[0m\n\u001b[0m\u001b[1;32m     11\u001b[0m \u001b[0mtraining_time_ann\u001b[0m \u001b[0;34m=\u001b[0m \u001b[0mtimeit\u001b[0m\u001b[0;34m.\u001b[0m\u001b[0mdefault_timer\u001b[0m\u001b[0;34m(\u001b[0m\u001b[0;34m)\u001b[0m \u001b[0;34m-\u001b[0m \u001b[0mt0\u001b[0m\u001b[0;34m\u001b[0m\u001b[0;34m\u001b[0m\u001b[0m\n",
            "\u001b[0;32m/usr/local/lib/python3.8/dist-packages/keras/utils/traceback_utils.py\u001b[0m in \u001b[0;36merror_handler\u001b[0;34m(*args, **kwargs)\u001b[0m\n\u001b[1;32m     65\u001b[0m     \u001b[0;32mexcept\u001b[0m \u001b[0mException\u001b[0m \u001b[0;32mas\u001b[0m \u001b[0me\u001b[0m\u001b[0;34m:\u001b[0m  \u001b[0;31m# pylint: disable=broad-except\u001b[0m\u001b[0;34m\u001b[0m\u001b[0;34m\u001b[0m\u001b[0m\n\u001b[1;32m     66\u001b[0m       \u001b[0mfiltered_tb\u001b[0m \u001b[0;34m=\u001b[0m \u001b[0m_process_traceback_frames\u001b[0m\u001b[0;34m(\u001b[0m\u001b[0me\u001b[0m\u001b[0;34m.\u001b[0m\u001b[0m__traceback__\u001b[0m\u001b[0;34m)\u001b[0m\u001b[0;34m\u001b[0m\u001b[0;34m\u001b[0m\u001b[0m\n\u001b[0;32m---> 67\u001b[0;31m       \u001b[0;32mraise\u001b[0m \u001b[0me\u001b[0m\u001b[0;34m.\u001b[0m\u001b[0mwith_traceback\u001b[0m\u001b[0;34m(\u001b[0m\u001b[0mfiltered_tb\u001b[0m\u001b[0;34m)\u001b[0m \u001b[0;32mfrom\u001b[0m \u001b[0;32mNone\u001b[0m\u001b[0;34m\u001b[0m\u001b[0;34m\u001b[0m\u001b[0m\n\u001b[0m\u001b[1;32m     68\u001b[0m     \u001b[0;32mfinally\u001b[0m\u001b[0;34m:\u001b[0m\u001b[0;34m\u001b[0m\u001b[0;34m\u001b[0m\u001b[0m\n\u001b[1;32m     69\u001b[0m       \u001b[0;32mdel\u001b[0m \u001b[0mfiltered_tb\u001b[0m\u001b[0;34m\u001b[0m\u001b[0;34m\u001b[0m\u001b[0m\n",
            "\u001b[0;32m/usr/local/lib/python3.8/dist-packages/tensorflow/python/eager/execute.py\u001b[0m in \u001b[0;36mquick_execute\u001b[0;34m(op_name, num_outputs, inputs, attrs, ctx, name)\u001b[0m\n\u001b[1;32m     52\u001b[0m   \u001b[0;32mtry\u001b[0m\u001b[0;34m:\u001b[0m\u001b[0;34m\u001b[0m\u001b[0;34m\u001b[0m\u001b[0m\n\u001b[1;32m     53\u001b[0m     \u001b[0mctx\u001b[0m\u001b[0;34m.\u001b[0m\u001b[0mensure_initialized\u001b[0m\u001b[0;34m(\u001b[0m\u001b[0;34m)\u001b[0m\u001b[0;34m\u001b[0m\u001b[0;34m\u001b[0m\u001b[0m\n\u001b[0;32m---> 54\u001b[0;31m     tensors = pywrap_tfe.TFE_Py_Execute(ctx._handle, device_name, op_name,\n\u001b[0m\u001b[1;32m     55\u001b[0m                                         inputs, attrs, num_outputs)\n\u001b[1;32m     56\u001b[0m   \u001b[0;32mexcept\u001b[0m \u001b[0mcore\u001b[0m\u001b[0;34m.\u001b[0m\u001b[0m_NotOkStatusException\u001b[0m \u001b[0;32mas\u001b[0m \u001b[0me\u001b[0m\u001b[0;34m:\u001b[0m\u001b[0;34m\u001b[0m\u001b[0;34m\u001b[0m\u001b[0m\n",
            "\u001b[0;31mUnimplementedError\u001b[0m: Graph execution error:\n\nDetected at node 'encoder/conv2d_7/Relu' defined at (most recent call last):\n    File \"/usr/lib/python3.8/runpy.py\", line 194, in _run_module_as_main\n      return _run_code(code, main_globals, None,\n    File \"/usr/lib/python3.8/runpy.py\", line 87, in _run_code\n      exec(code, run_globals)\n    File \"/usr/local/lib/python3.8/dist-packages/ipykernel_launcher.py\", line 16, in <module>\n      app.launch_new_instance()\n    File \"/usr/local/lib/python3.8/dist-packages/traitlets/config/application.py\", line 846, in launch_instance\n      app.start()\n    File \"/usr/local/lib/python3.8/dist-packages/ipykernel/kernelapp.py\", line 612, in start\n      self.io_loop.start()\n    File \"/usr/local/lib/python3.8/dist-packages/tornado/platform/asyncio.py\", line 149, in start\n      self.asyncio_loop.run_forever()\n    File \"/usr/lib/python3.8/asyncio/base_events.py\", line 570, in run_forever\n      self._run_once()\n    File \"/usr/lib/python3.8/asyncio/base_events.py\", line 1859, in _run_once\n      handle._run()\n    File \"/usr/lib/python3.8/asyncio/events.py\", line 81, in _run\n      self._context.run(self._callback, *self._args)\n    File \"/usr/local/lib/python3.8/dist-packages/tornado/ioloop.py\", line 690, in <lambda>\n      lambda f: self._run_callback(functools.partial(callback, future))\n    File \"/usr/local/lib/python3.8/dist-packages/tornado/ioloop.py\", line 743, in _run_callback\n      ret = callback()\n    File \"/usr/local/lib/python3.8/dist-packages/tornado/gen.py\", line 787, in inner\n      self.run()\n    File \"/usr/local/lib/python3.8/dist-packages/tornado/gen.py\", line 748, in run\n      yielded = self.gen.send(value)\n    File \"/usr/local/lib/python3.8/dist-packages/ipykernel/kernelbase.py\", line 365, in process_one\n      yield gen.maybe_future(dispatch(*args))\n    File \"/usr/local/lib/python3.8/dist-packages/tornado/gen.py\", line 209, in wrapper\n      yielded = next(result)\n    File \"/usr/local/lib/python3.8/dist-packages/ipykernel/kernelbase.py\", line 268, in dispatch_shell\n      yield gen.maybe_future(handler(stream, idents, msg))\n    File \"/usr/local/lib/python3.8/dist-packages/tornado/gen.py\", line 209, in wrapper\n      yielded = next(result)\n    File \"/usr/local/lib/python3.8/dist-packages/ipykernel/kernelbase.py\", line 543, in execute_request\n      self.do_execute(\n    File \"/usr/local/lib/python3.8/dist-packages/tornado/gen.py\", line 209, in wrapper\n      yielded = next(result)\n    File \"/usr/local/lib/python3.8/dist-packages/ipykernel/ipkernel.py\", line 306, in do_execute\n      res = shell.run_cell(code, store_history=store_history, silent=silent)\n    File \"/usr/local/lib/python3.8/dist-packages/ipykernel/zmqshell.py\", line 536, in run_cell\n      return super(ZMQInteractiveShell, self).run_cell(*args, **kwargs)\n    File \"/usr/local/lib/python3.8/dist-packages/IPython/core/interactiveshell.py\", line 2854, in run_cell\n      result = self._run_cell(\n    File \"/usr/local/lib/python3.8/dist-packages/IPython/core/interactiveshell.py\", line 2881, in _run_cell\n      return runner(coro)\n    File \"/usr/local/lib/python3.8/dist-packages/IPython/core/async_helpers.py\", line 68, in _pseudo_sync_runner\n      coro.send(None)\n    File \"/usr/local/lib/python3.8/dist-packages/IPython/core/interactiveshell.py\", line 3057, in run_cell_async\n      has_raised = await self.run_ast_nodes(code_ast.body, cell_name,\n    File \"/usr/local/lib/python3.8/dist-packages/IPython/core/interactiveshell.py\", line 3249, in run_ast_nodes\n      if (await self.run_code(code, result,  async_=asy)):\n    File \"/usr/local/lib/python3.8/dist-packages/IPython/core/interactiveshell.py\", line 3326, in run_code\n      exec(code_obj, self.user_global_ns, self.user_ns)\n    File \"<ipython-input-48-71b5f8e432f3>\", line 10, in <module>\n      mfit = vae.fit(train_generator, epochs=30, batch_size=62)\n    File \"/usr/local/lib/python3.8/dist-packages/keras/utils/traceback_utils.py\", line 64, in error_handler\n      return fn(*args, **kwargs)\n    File \"/usr/local/lib/python3.8/dist-packages/keras/engine/training.py\", line 1409, in fit\n      tmp_logs = self.train_function(iterator)\n    File \"/usr/local/lib/python3.8/dist-packages/keras/engine/training.py\", line 1051, in train_function\n      return step_function(self, iterator)\n    File \"/usr/local/lib/python3.8/dist-packages/keras/engine/training.py\", line 1040, in step_function\n      outputs = model.distribute_strategy.run(run_step, args=(data,))\n    File \"/usr/local/lib/python3.8/dist-packages/keras/engine/training.py\", line 1030, in run_step\n      outputs = model.train_step(data)\n    File \"<ipython-input-46-373258cf77cd>\", line 22, in train_step\n      z_mean, z_log_var, z = self.encoder(data)\n    File \"/usr/local/lib/python3.8/dist-packages/keras/utils/traceback_utils.py\", line 64, in error_handler\n      return fn(*args, **kwargs)\n    File \"/usr/local/lib/python3.8/dist-packages/keras/engine/training.py\", line 490, in __call__\n      return super().__call__(*args, **kwargs)\n    File \"/usr/local/lib/python3.8/dist-packages/keras/utils/traceback_utils.py\", line 64, in error_handler\n      return fn(*args, **kwargs)\n    File \"/usr/local/lib/python3.8/dist-packages/keras/engine/base_layer.py\", line 1014, in __call__\n      outputs = call_fn(inputs, *args, **kwargs)\n    File \"/usr/local/lib/python3.8/dist-packages/keras/utils/traceback_utils.py\", line 92, in error_handler\n      return fn(*args, **kwargs)\n    File \"/usr/local/lib/python3.8/dist-packages/keras/engine/functional.py\", line 458, in call\n      return self._run_internal_graph(\n    File \"/usr/local/lib/python3.8/dist-packages/keras/engine/functional.py\", line 596, in _run_internal_graph\n      outputs = node.layer(*args, **kwargs)\n    File \"/usr/local/lib/python3.8/dist-packages/keras/utils/traceback_utils.py\", line 64, in error_handler\n      return fn(*args, **kwargs)\n    File \"/usr/local/lib/python3.8/dist-packages/keras/engine/base_layer.py\", line 1014, in __call__\n      outputs = call_fn(inputs, *args, **kwargs)\n    File \"/usr/local/lib/python3.8/dist-packages/keras/utils/traceback_utils.py\", line 92, in error_handler\n      return fn(*args, **kwargs)\n    File \"/usr/local/lib/python3.8/dist-packages/keras/layers/convolutional/base_conv.py\", line 278, in call\n      return self.activation(outputs)\n    File \"/usr/local/lib/python3.8/dist-packages/keras/activations.py\", line 311, in relu\n      return backend.relu(x, alpha=alpha, max_value=max_value, threshold=threshold)\n    File \"/usr/local/lib/python3.8/dist-packages/keras/backend.py\", line 4992, in relu\n      x = tf.nn.relu(x)\nNode: 'encoder/conv2d_7/Relu'\nFused conv implementation does not support grouped convolutions for now.\n\t [[{{node encoder/conv2d_7/Relu}}]] [Op:__inference_train_function_4572]"
          ]
        }
      ]
    },
    {
      "cell_type": "code",
      "source": [
        "import timeit\n",
        "\n",
        "\n",
        "# Compile\n",
        "model.compile(\n",
        "    optimizer=Adam(learning_rate=0.01), \n",
        "    loss=ELBOloss, \n",
        "    metrics=[keras.metrics.BinaryAccuracy()],\n",
        "    run_eagerly=True\n",
        ")  \n",
        "# Entrenar el modelo\n",
        "t0 = timeit.default_timer()\n",
        "mfit = model.fit(train_ds, epochs=20, batch_size=128, validation_data=valid_ds)\n",
        "training_time_ann = timeit.default_timer() - t0"
      ],
      "metadata": {
        "id": "PfYMoQnQr5_H"
      },
      "execution_count": null,
      "outputs": []
    },
    {
      "cell_type": "code",
      "source": [
        "y_pred = model.predict(test_ds)\n"
      ],
      "metadata": {
        "id": "qRheJ2dmjSyo"
      },
      "execution_count": null,
      "outputs": []
    },
    {
      "cell_type": "code",
      "source": [
        "fig, axes = plt.subplots(1, len(y_pred), figsize=(25,25))\n",
        "\n",
        "for i in range(len(y_pred)):\n",
        "  image = y_pred[1]\n",
        "  image = image[:,:,0]\n",
        "  axes[i].imshow(image, cmap=\"gray\", origin=\"lower\")\n",
        "  # Display the first image in training data\n",
        "  #img = image[:,:,100]\n",
        "  plt.imshow(image, cmap='gray')"
      ],
      "metadata": {
        "id": "3ax2bmecpj2X"
      },
      "execution_count": null,
      "outputs": []
    },
    {
      "cell_type": "code",
      "source": [
        "def sampling(args):\n",
        "  latent_dim = 2\n",
        "  z_mean, z_log_var = args\n",
        "  epsilon = K.random_normal(shape=(K.shape(z_mean)[0], latent_dim),\n",
        "                            mean=0., stddev=1.)\n",
        "  return z_mean + K.exp(z_log_var) * epsilon\n",
        "\n",
        "z = layers.Lambda(sampling)([z_mean, z_log_variance])\n"
      ],
      "metadata": {
        "id": "FC4jTig9gdML"
      },
      "execution_count": null,
      "outputs": []
    },
    {
      "cell_type": "code",
      "source": [
        "f, big_axes = plt.subplots(15,10, figsize=(25,25))\n",
        "\n",
        "for i in range(0,15):\n",
        "  for j in range(0,10):\n",
        "    slice_position = ((i - 1) * 10) + j\n",
        "    big_axes[i,j].imshow(image[:,:,slice_position], cmap='gray')\n",
        "\n",
        "\n"
      ],
      "metadata": {
        "id": "fJ9oEcU_p9IU"
      },
      "execution_count": null,
      "outputs": []
    }
  ]
}